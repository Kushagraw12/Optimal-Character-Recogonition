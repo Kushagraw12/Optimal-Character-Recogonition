{
  "nbformat": 4,
  "nbformat_minor": 0,
  "metadata": {
    "colab": {
      "name": "OCR-Kaggle DS",
      "provenance": [],
      "collapsed_sections": []
    },
    "kernelspec": {
      "name": "python3",
      "display_name": "Python 3"
    }
  },
  "cells": [
    {
      "cell_type": "markdown",
      "metadata": {
        "id": "ntDqE_ZSFsG2"
      },
      "source": [
        "## Kaggle Dataset"
      ]
    },
    {
      "cell_type": "code",
      "metadata": {
        "id": "vcHBljgmEMdp"
      },
      "source": [
        "import numpy as np \n",
        "import pandas as pd\n",
        "import matplotlib.pyplot as plt\n",
        "from keras.layers import Conv2D,Dense,MaxPool2D,Dropout,Flatten\n",
        "from keras.models import Sequential\n",
        "from skimage import io\n",
        "from PIL import Image, ImageDraw, ImageFont\n",
        "import cv2\n",
        "import os\n",
        "from sklearn.neighbors import KNeighborsClassifier\n",
        "from sklearn.model_selection import train_test_split\n",
        "from keras.utils import to_categorical"
      ],
      "execution_count": null,
      "outputs": []
    },
    {
      "cell_type": "code",
      "metadata": {
        "id": "RaZFoUOaFtLg",
        "outputId": "f2ccdcfe-b909-4709-ed8e-3b90107d4c9a",
        "colab": {
          "base_uri": "https://localhost:8080/",
          "height": 35
        }
      },
      "source": [
        "from google.colab import drive\n",
        "drive.mount('/content/drive')"
      ],
      "execution_count": null,
      "outputs": [
        {
          "output_type": "stream",
          "text": [
            "Drive already mounted at /content/drive; to attempt to forcibly remount, call drive.mount(\"/content/drive\", force_remount=True).\n"
          ],
          "name": "stdout"
        }
      ]
    },
    {
      "cell_type": "code",
      "metadata": {
        "id": "OTmue16aF72R"
      },
      "source": [
        "path = '/content/drive/My Drive/OpenCV/'"
      ],
      "execution_count": null,
      "outputs": []
    },
    {
      "cell_type": "code",
      "metadata": {
        "id": "FWNYR_CNKC41",
        "outputId": "f453da7c-5572-4765-ce0c-ecf3185d0327",
        "colab": {
          "base_uri": "https://localhost:8080/",
          "height": 126
        }
      },
      "source": [
        "os.listdir(path)"
      ],
      "execution_count": null,
      "outputs": [
        {
          "output_type": "execute_result",
          "data": {
            "text/plain": [
              "['data.zip',\n",
              " 'ocr-handwriting-models.zip',\n",
              " 'tesseract.exe',\n",
              " 'sample4.jpg',\n",
              " 'ocr.zip',\n",
              " 'Weights']"
            ]
          },
          "metadata": {
            "tags": []
          },
          "execution_count": 38
        }
      ]
    },
    {
      "cell_type": "markdown",
      "metadata": {
        "id": "T8MCdb8azIdW"
      },
      "source": [
        "Un-comment it for the first time"
      ]
    },
    {
      "cell_type": "code",
      "metadata": {
        "id": "eYmeJpbeKFGc"
      },
      "source": [
        "#!unzip '/content/drive/My Drive/OpenCV/ocr.zip' -d '/tmp/'"
      ],
      "execution_count": null,
      "outputs": []
    },
    {
      "cell_type": "code",
      "metadata": {
        "id": "LvsqwuvpKfai"
      },
      "source": [
        "#!unzip '/tmp/train.zip' -d '/train'"
      ],
      "execution_count": null,
      "outputs": []
    },
    {
      "cell_type": "code",
      "metadata": {
        "id": "WQ_SdnjCKsyK"
      },
      "source": [
        "#!unzip '/tmp/test.zip' -d '/test'"
      ],
      "execution_count": null,
      "outputs": []
    },
    {
      "cell_type": "code",
      "metadata": {
        "id": "kh1BLvRGKaCl",
        "outputId": "da8d300f-eaab-48bb-9d71-22d96a816e44",
        "colab": {
          "base_uri": "https://localhost:8080/",
          "height": 290
        }
      },
      "source": [
        "os.listdir('/tmp/')"
      ],
      "execution_count": null,
      "outputs": [
        {
          "output_type": "execute_result",
          "data": {
            "text/plain": [
              "['trainResized.zip',\n",
              " 'train.zip',\n",
              " 'tmp0m68zdma.py',\n",
              " 'resizeData.py',\n",
              " 'drivefs_ipc.0',\n",
              " 'trainLabels.csv',\n",
              " 'tmpd46jd96b.py',\n",
              " 'source-code-files.zip',\n",
              " 'tmpyvy9rmt_.py',\n",
              " 'sampleSubmission.csv',\n",
              " '__pycache__',\n",
              " 'testResized.zip',\n",
              " 'drivefs_ipc.0_shell',\n",
              " 'tmp6cdkow1r',\n",
              " 'test.zip']"
            ]
          },
          "metadata": {
            "tags": []
          },
          "execution_count": 4
        }
      ]
    },
    {
      "cell_type": "code",
      "metadata": {
        "id": "pqviScRsKmK6"
      },
      "source": [
        "os.listdir('/train/')\n",
        "train_path = '/train/train/'"
      ],
      "execution_count": null,
      "outputs": []
    },
    {
      "cell_type": "code",
      "metadata": {
        "id": "4_hvpxURKzgA"
      },
      "source": [
        "os.listdir('/test/')\n",
        "test_path = '/test/test/'"
      ],
      "execution_count": null,
      "outputs": []
    },
    {
      "cell_type": "markdown",
      "metadata": {
        "id": "nGn0rM65zWl2"
      },
      "source": [
        "### EDA"
      ]
    },
    {
      "cell_type": "code",
      "metadata": {
        "id": "6VQBeSOHK4gB",
        "outputId": "4117ec4f-ac45-41e6-f819-de22ae988724",
        "colab": {
          "base_uri": "https://localhost:8080/",
          "height": 287
        }
      },
      "source": [
        "from matplotlib.image import imread\n",
        "img=imread(f'{train_path}/1.Bmp')\n",
        "plt.imshow(img)"
      ],
      "execution_count": null,
      "outputs": [
        {
          "output_type": "execute_result",
          "data": {
            "text/plain": [
              "<matplotlib.image.AxesImage at 0x7f7655c8a7b8>"
            ]
          },
          "metadata": {
            "tags": []
          },
          "execution_count": 9
        },
        {
          "output_type": "display_data",
          "data": {
            "image/png": "[encoded data removed]",
            "text/plain": [
              "<Figure size 432x288 with 1 Axes>"
            ]
          },
          "metadata": {
            "tags": [],
            "needs_background": "light"
          }
        }
      ]
    },
    {
      "cell_type": "code",
      "metadata": {
        "id": "3TMWHuJJK8P8",
        "outputId": "5dd8898d-b586-4f4e-82ae-03c9c660f9aa",
        "colab": {
          "base_uri": "https://localhost:8080/",
          "height": 253
        }
      },
      "source": [
        "train=[io.imread(f'{train_path}'+str(i)+'.Bmp',as_gray=True) for i in range(1,6283)]\n",
        "#plt.imshow(train[1])\n",
        "train[1]"
      ],
      "execution_count": null,
      "outputs": [
        {
          "output_type": "execute_result",
          "data": {
            "text/plain": [
              "array([[0.47126667, 0.47462275, 0.47854431, ..., 0.47321608, 0.47321608,\n",
              "        0.46929451],\n",
              "       [0.47070118, 0.47462275, 0.47462275, ..., 0.46842353, 0.46842353,\n",
              "        0.46450196],\n",
              "       [0.47153451, 0.47070118, 0.47070118, ..., 0.4625298 , 0.4647698 ,\n",
              "        0.4647698 ],\n",
              "       ...,\n",
              "       [0.45919647, 0.46058039, 0.46058039, ..., 0.46006745, 0.45840078,\n",
              "        0.45447922],\n",
              "       [0.45919647, 0.45665882, 0.46058039, ..., 0.45360824, 0.45614588,\n",
              "        0.45614588],\n",
              "       [0.45863098, 0.45665882, 0.45665882, ..., 0.45722431, 0.4575298 ,\n",
              "        0.45360824]])"
            ]
          },
          "metadata": {
            "tags": []
          },
          "execution_count": 10
        }
      ]
    },
    {
      "cell_type": "code",
      "metadata": {
        "id": "OE8_8PRyLSxv"
      },
      "source": [
        "final_train=[cv2.resize(image,(28,28)).flatten() for image in train]"
      ],
      "execution_count": null,
      "outputs": []
    },
    {
      "cell_type": "code",
      "metadata": {
        "id": "xY0AaoeQLVor",
        "outputId": "9d6d8dd9-1874-45fc-ac06-663004af7089",
        "colab": {
          "base_uri": "https://localhost:8080/",
          "height": 206
        }
      },
      "source": [
        "labels=pd.read_csv('/tmp/trainLabels.csv')\n",
        "labels.head()"
      ],
      "execution_count": null,
      "outputs": [
        {
          "output_type": "execute_result",
          "data": {
            "text/html": [
              "<div>\n",
              "<style scoped>\n",
              "    .dataframe tbody tr th:only-of-type {\n",
              "        vertical-align: middle;\n",
              "    }\n",
              "\n",
              "    .dataframe tbody tr th {\n",
              "        vertical-align: top;\n",
              "    }\n",
              "\n",
              "    .dataframe thead th {\n",
              "        text-align: right;\n",
              "    }\n",
              "</style>\n",
              "<table border=\"1\" class=\"dataframe\">\n",
              "  <thead>\n",
              "    <tr style=\"text-align: right;\">\n",
              "      <th></th>\n",
              "      <th>ID</th>\n",
              "      <th>Class</th>\n",
              "    </tr>\n",
              "  </thead>\n",
              "  <tbody>\n",
              "    <tr>\n",
              "      <th>0</th>\n",
              "      <td>1</td>\n",
              "      <td>n</td>\n",
              "    </tr>\n",
              "    <tr>\n",
              "      <th>1</th>\n",
              "      <td>2</td>\n",
              "      <td>8</td>\n",
              "    </tr>\n",
              "    <tr>\n",
              "      <th>2</th>\n",
              "      <td>3</td>\n",
              "      <td>T</td>\n",
              "    </tr>\n",
              "    <tr>\n",
              "      <th>3</th>\n",
              "      <td>4</td>\n",
              "      <td>I</td>\n",
              "    </tr>\n",
              "    <tr>\n",
              "      <th>4</th>\n",
              "      <td>5</td>\n",
              "      <td>R</td>\n",
              "    </tr>\n",
              "  </tbody>\n",
              "</table>\n",
              "</div>"
            ],
            "text/plain": [
              "   ID Class\n",
              "0   1     n\n",
              "1   2     8\n",
              "2   3     T\n",
              "3   4     I\n",
              "4   5     R"
            ]
          },
          "metadata": {
            "tags": []
          },
          "execution_count": 12
        }
      ]
    },
    {
      "cell_type": "code",
      "metadata": {
        "id": "_wrxXpErLeUT",
        "outputId": "9d285cbe-a570-4ecd-a389-48075702b2cb",
        "colab": {
          "base_uri": "https://localhost:8080/",
          "height": 35
        }
      },
      "source": [
        "finaly=np.array(final_train)\n",
        "finaly.shape"
      ],
      "execution_count": null,
      "outputs": [
        {
          "output_type": "execute_result",
          "data": {
            "text/plain": [
              "(6282, 784)"
            ]
          },
          "metadata": {
            "tags": []
          },
          "execution_count": 13
        }
      ]
    },
    {
      "cell_type": "markdown",
      "metadata": {
        "id": "WY9H4xSyzZ_O"
      },
      "source": [
        "## PREPROCESSING"
      ]
    },
    {
      "cell_type": "code",
      "metadata": {
        "id": "o0RLNqy7Lgj1"
      },
      "source": [
        "mapp={}\n",
        "a='abcdefghijklmnopqrstuvwxyz'\n",
        "count=0\n",
        "for x in range(10):\n",
        "    mapp[x]=count\n",
        "    count+=1\n",
        "for y in a:\n",
        "    mapp[count]=y.upper()\n",
        "    count+=1\n",
        "for y in a:\n",
        "    mapp[count]=y\n",
        "    count+=1"
      ],
      "execution_count": null,
      "outputs": []
    },
    {
      "cell_type": "code",
      "metadata": {
        "id": "2FzHzl7FLh4Z"
      },
      "source": [
        "trainx,testx,trainy,testy=train_test_split(finaly,labels['Class'].iloc[:-1],test_size=0.10)"
      ],
      "execution_count": null,
      "outputs": []
    },
    {
      "cell_type": "markdown",
      "metadata": {
        "id": "Zn8xS9oQzcaF"
      },
      "source": [
        "## KNN"
      ]
    },
    {
      "cell_type": "code",
      "metadata": {
        "id": "2pGbJQ2sLjL5",
        "outputId": "1b095451-5d5c-495a-e953-390c20e84200",
        "colab": {
          "base_uri": "https://localhost:8080/",
          "height": 72
        }
      },
      "source": [
        "model=KNeighborsClassifier(n_neighbors=1,n_jobs=-1)\n",
        "model.fit(trainx,trainy)"
      ],
      "execution_count": null,
      "outputs": [
        {
          "output_type": "execute_result",
          "data": {
            "text/plain": [
              "KNeighborsClassifier(algorithm='auto', leaf_size=30, metric='minkowski',\n",
              "                     metric_params=None, n_jobs=-1, n_neighbors=1, p=2,\n",
              "                     weights='uniform')"
            ]
          },
          "metadata": {
            "tags": []
          },
          "execution_count": 16
        }
      ]
    },
    {
      "cell_type": "code",
      "metadata": {
        "id": "EDc4UEJbLkVL",
        "outputId": "3a1c5134-8be4-4a50-9617-089b668099b6",
        "colab": {
          "base_uri": "https://localhost:8080/",
          "height": 35
        }
      },
      "source": [
        "model.score(testx,testy)"
      ],
      "execution_count": null,
      "outputs": [
        {
          "output_type": "execute_result",
          "data": {
            "text/plain": [
              "0.43720190779014306"
            ]
          },
          "metadata": {
            "tags": []
          },
          "execution_count": 17
        }
      ]
    },
    {
      "cell_type": "code",
      "metadata": {
        "id": "o_ulyS2kLlo5"
      },
      "source": [
        "features_for_conv=np.array([cv2.resize(image,(28,28)) for image in train])\n",
        "features_for_conv=features_for_conv[:,:,:,np.newaxis]"
      ],
      "execution_count": null,
      "outputs": []
    },
    {
      "cell_type": "markdown",
      "metadata": {
        "id": "JYn5SoaWfagJ"
      },
      "source": [
        "## CNN MODEL 1"
      ]
    },
    {
      "cell_type": "code",
      "metadata": {
        "id": "xFnE9oXYLoZ9",
        "outputId": "3263eb29-47dd-480a-c3ac-877f6d030a53",
        "colab": {
          "base_uri": "https://localhost:8080/",
          "height": 598
        }
      },
      "source": [
        "model=Sequential()\n",
        "\n",
        "model.add(Conv2D(32,(3,3),activation='relu',input_shape=(28,28,1),data_format='channels_last'))\n",
        "model.add(MaxPool2D((2,2)))\n",
        "model.add(Dropout(0.2))\n",
        "\n",
        "model.add(Conv2D(64,(3,3),activation='relu'))\n",
        "model.add(MaxPool2D((2,2)))\n",
        "model.add(Dropout(0.2))\n",
        "\n",
        "model.add(Conv2D(128,(3,3),activation='relu'))\n",
        "model.add(MaxPool2D((2,2)))\n",
        "model.add(Dropout(0.2))\n",
        "\n",
        "model.add(Flatten())\n",
        "\n",
        "#model.add(Dense(512,activation='relu'))\n",
        "\n",
        "#model.add(Dense(256,activation='relu'))\n",
        "\n",
        "model.add(Dense(128,activation='relu'))\n",
        "\n",
        "model.add(Dense(62,activation='softmax'))\n",
        "\n",
        "model.summary()"
      ],
      "execution_count": null,
      "outputs": [
        {
          "output_type": "stream",
          "text": [
            "Model: \"sequential\"\n",
            "_________________________________________________________________\n",
            "Layer (type)                 Output Shape              Param #   \n",
            "=================================================================\n",
            "conv2d (Conv2D)              (None, 26, 26, 32)        320       \n",
            "_________________________________________________________________\n",
            "max_pooling2d (MaxPooling2D) (None, 13, 13, 32)        0         \n",
            "_________________________________________________________________\n",
            "dropout (Dropout)            (None, 13, 13, 32)        0         \n",
            "_________________________________________________________________\n",
            "conv2d_1 (Conv2D)            (None, 11, 11, 64)        18496     \n",
            "_________________________________________________________________\n",
            "max_pooling2d_1 (MaxPooling2 (None, 5, 5, 64)          0         \n",
            "_________________________________________________________________\n",
            "dropout_1 (Dropout)          (None, 5, 5, 64)          0         \n",
            "_________________________________________________________________\n",
            "conv2d_2 (Conv2D)            (None, 3, 3, 128)         73856     \n",
            "_________________________________________________________________\n",
            "max_pooling2d_2 (MaxPooling2 (None, 1, 1, 128)         0         \n",
            "_________________________________________________________________\n",
            "dropout_2 (Dropout)          (None, 1, 1, 128)         0         \n",
            "_________________________________________________________________\n",
            "flatten (Flatten)            (None, 128)               0         \n",
            "_________________________________________________________________\n",
            "dense (Dense)                (None, 128)               16512     \n",
            "_________________________________________________________________\n",
            "dense_1 (Dense)              (None, 62)                7998      \n",
            "=================================================================\n",
            "Total params: 117,182\n",
            "Trainable params: 117,182\n",
            "Non-trainable params: 0\n",
            "_________________________________________________________________\n"
          ],
          "name": "stdout"
        }
      ]
    },
    {
      "cell_type": "code",
      "metadata": {
        "id": "-ZgaSg7KMBep"
      },
      "source": [
        "Labels=pd.get_dummies(labels['Class'])"
      ],
      "execution_count": null,
      "outputs": []
    },
    {
      "cell_type": "code",
      "metadata": {
        "id": "nfl0_ZS4ML_0"
      },
      "source": [
        "Trainx,valx,Trainy,valy=train_test_split(features_for_conv,Labels.iloc[:-1],test_size=0.2)"
      ],
      "execution_count": null,
      "outputs": []
    },
    {
      "cell_type": "code",
      "metadata": {
        "id": "lPFl4r87MNjA",
        "outputId": "a57007e6-d613-4edd-858e-c3f919b171c6",
        "colab": {
          "base_uri": "https://localhost:8080/",
          "height": 35
        }
      },
      "source": [
        "Trainx.shape"
      ],
      "execution_count": null,
      "outputs": [
        {
          "output_type": "execute_result",
          "data": {
            "text/plain": [
              "(5025, 28, 28, 1)"
            ]
          },
          "metadata": {
            "tags": []
          },
          "execution_count": 22
        }
      ]
    },
    {
      "cell_type": "code",
      "metadata": {
        "id": "b_uCm8LfMOnz"
      },
      "source": [
        "model.compile(loss='categorical_crossentropy',\n",
        "              optimizer='rmsprop',\n",
        "              metrics=['accuracy'])"
      ],
      "execution_count": null,
      "outputs": []
    },
    {
      "cell_type": "code",
      "metadata": {
        "id": "vqe0hAqEMPsg"
      },
      "source": [
        "#model.fit(Trainx,Trainy,epochs=25,validation_data=(valx,valy)) "
      ],
      "execution_count": null,
      "outputs": []
    },
    {
      "cell_type": "code",
      "metadata": {
        "id": "CvRA0VyAMT4s"
      },
      "source": [
        "#model.fit(features_for_conv,Labels.iloc[:-1],epochs=30)"
      ],
      "execution_count": null,
      "outputs": []
    },
    {
      "cell_type": "markdown",
      "metadata": {
        "id": "YCbvlnGIzifT"
      },
      "source": [
        "### TESTNIG M1"
      ]
    },
    {
      "cell_type": "code",
      "metadata": {
        "id": "0uJlR8foMXWE"
      },
      "source": [
        "lab=[]\n",
        "test=[]\n",
        "import os\n",
        "for i in os.listdir(f'{test_path}'):\n",
        "    test.append(io.imread(f'{test_path}'+i,as_gray=True))\n",
        "    lab.append(i.split('.')[0])"
      ],
      "execution_count": null,
      "outputs": []
    },
    {
      "cell_type": "code",
      "metadata": {
        "id": "RdIMw6JkMZfK",
        "outputId": "c7a3e1eb-204e-4345-d08b-cbfa7b4e7007",
        "colab": {
          "base_uri": "https://localhost:8080/",
          "height": 35
        }
      },
      "source": [
        "test_img=np.array([cv2.resize(image,(28,28)) for image in test])\n",
        "test_img=test_img[:,:,:,np.newaxis]\n",
        "test_img.shape"
      ],
      "execution_count": null,
      "outputs": [
        {
          "output_type": "execute_result",
          "data": {
            "text/plain": [
              "(6220, 28, 28, 1)"
            ]
          },
          "metadata": {
            "tags": []
          },
          "execution_count": 27
        }
      ]
    },
    {
      "cell_type": "code",
      "metadata": {
        "id": "WI0xH3CLMeUw"
      },
      "source": [
        "predictions=model.predict(test_img)\n",
        "\n",
        "predictions=np.argmax(predictions,axis=1)"
      ],
      "execution_count": null,
      "outputs": []
    },
    {
      "cell_type": "code",
      "metadata": {
        "id": "N3spfZCXMe2A"
      },
      "source": [
        "lit=[]\n",
        "for x in predictions:\n",
        "    lit.append(mapp.get(x))\n",
        "lit"
      ],
      "execution_count": null,
      "outputs": []
    },
    {
      "cell_type": "markdown",
      "metadata": {
        "id": "kT656JzLHnzb"
      },
      "source": [
        "## CNN MODEL 2"
      ]
    },
    {
      "cell_type": "code",
      "metadata": {
        "id": "jU3pMF_uHnLw",
        "outputId": "d028b11e-1635-4a36-e248-6dbfc16fc1ca",
        "colab": {
          "base_uri": "https://localhost:8080/",
          "height": 126
        }
      },
      "source": [
        "os.listdir(f\"{path}\")"
      ],
      "execution_count": null,
      "outputs": [
        {
          "output_type": "execute_result",
          "data": {
            "text/plain": [
              "['data.zip',\n",
              " 'ocr-handwriting-models.zip',\n",
              " 'tesseract.exe',\n",
              " 'sample4.jpg',\n",
              " 'ocr.zip',\n",
              " 'Weights']"
            ]
          },
          "metadata": {
            "tags": []
          },
          "execution_count": 39
        }
      ]
    },
    {
      "cell_type": "code",
      "metadata": {
        "id": "bQcbJOzsH_55",
        "outputId": "ea2cc40e-2e4f-45f3-b8b4-cf134fa50d9b",
        "colab": {
          "base_uri": "https://localhost:8080/",
          "height": 35
        }
      },
      "source": [
        "print(path)"
      ],
      "execution_count": null,
      "outputs": [
        {
          "output_type": "stream",
          "text": [
            "/content/drive/My Drive/OpenCV/\n"
          ],
          "name": "stdout"
        }
      ]
    },
    {
      "cell_type": "markdown",
      "metadata": {
        "id": "y-aIJk6pztIf"
      },
      "source": [
        "### Un-comment it when running it for the first time"
      ]
    },
    {
      "cell_type": "code",
      "metadata": {
        "id": "YHTrmSa7H5M1"
      },
      "source": [
        "#!unzip '/content/drive/My Drive/OpenCV/data.zip' -d \"/data\""
      ],
      "execution_count": null,
      "outputs": []
    },
    {
      "cell_type": "code",
      "metadata": {
        "id": "NGbiWKCZIG3T",
        "outputId": "796a8ab3-8b85-4594-f2ad-b82d9f33bc9f",
        "colab": {
          "base_uri": "https://localhost:8080/",
          "height": 1000
        }
      },
      "source": [
        "os.listdir('/data/processed/breta/')\n",
        "words_path = '/data/processed/breta/words_gaplines'\n",
        "archive_path = '/data/processed/breta/archive_gaplines'\n",
        "os.listdir(archive_path)"
      ],
      "execution_count": null,
      "outputs": [
        {
          "output_type": "execute_result",
          "data": {
            "text/plain": [
              "['stroj_1524590829.040007.txt',\n",
              " 'neminula_1524595991.1917827.txt',\n",
              " 'z_1524592297.6949866.jpg',\n",
              " 'spojeno_1524516653.3881886.txt',\n",
              " 'skoncil_1524593078.402689.txt',\n",
              " 'take_1524589629.499942.jpg',\n",
              " 's_1524598304.1361315.txt',\n",
              " 'a_1524588497.483587.txt',\n",
              " 'nepovedla_1524589545.6932507.jpg',\n",
              " 'ani_1524592433.297812.jpg',\n",
              " 'nez_1524602954.2933917.txt',\n",
              " 'oblekani_1524589716.8044167.jpg',\n",
              " 'potizim_1524516137.8488872.jpg',\n",
              " 'pekneho_1524518977.6385343.txt',\n",
              " 'tu_1524519097.7711337.txt',\n",
              " 'postavena_1524602697.1135442.txt',\n",
              " 'ze_1524599043.8297303.txt',\n",
              " 'se_1524592117.6157832.txt',\n",
              " 'sedlak_1524593045.8564503.jpg',\n",
              " 'a_1524519480.5092137.txt',\n",
              " 'slzam_1524589986.870594.txt',\n",
              " 'chuda_1524595981.420073.txt',\n",
              " 'ochotniku_1524579971.4111047.txt',\n",
              " 'stodola_1524602537.1500344.jpg',\n",
              " 'uspechu_1524519622.284368.txt',\n",
              " 'od_1524592152.058905.txt',\n",
              " 'take_1524516549.5822659.txt',\n",
              " 'byla_1524602767.001207.txt',\n",
              " 'vice_1524592346.0953574.jpg',\n",
              " 'hru_1524580093.788054.jpg',\n",
              " 'soucasne_1524516587.039353.jpg',\n",
              " 'Dub_1524590821.4234123.txt',\n",
              " 'temto_1524516179.4053862.txt',\n",
              " 'cvicicimi_1524516416.711861.txt',\n",
              " 'pochopeni_1524515946.161441.txt',\n",
              " 'na_1524580520.5250125.jpg',\n",
              " 'chvili_1524515103.8012388.jpg',\n",
              " 'hral_1524591553.498814.txt',\n",
              " 'tomu_1524590226.3315618.txt',\n",
              " 'take_1524593211.0460505.txt',\n",
              " 'hospode_1524519412.5684505.txt',\n",
              " 'skolni_1524589934.0943646.jpg',\n",
              " 'p_1524591517.5613427.jpg',\n",
              " 'utrpela_1524592224.7288432.jpg',\n",
              " 'Petr_1524603326.318941.jpg',\n",
              " 'oknem_1524519201.3613262.jpg',\n",
              " 'ji_1524597936.1174078.txt',\n",
              " 'dik_1524602347.2653005.jpg',\n",
              " 'pekneho_1524597763.7538075.jpg',\n",
              " 'ochotu_1524598942.7213798.txt',\n",
              " 'solove_1524519392.756977.jpg',\n",
              " 'opakovaly_1524516443.6871626.txt',\n",
              " 'srpna_1524597982.5448158.txt',\n",
              " 'a_1524592214.2986786.jpg',\n",
              " 's_1524591597.6946654.txt',\n",
              " 'a_1524602635.6249425.jpg',\n",
              " 'od_1524580865.1323652.txt',\n",
              " 'sice_1524597026.1732242.txt',\n",
              " 'Ruzena_1524519251.300957.jpg',\n",
              " 'zhotovil_1524515244.8285897.txt',\n",
              " 'kvetna_1524596753.5652533.jpg',\n",
              " 'nich_1524588997.8379085.jpg',\n",
              " 'uprave_1524589394.306539.txt',\n",
              " 'hrano_1524518800.3594253.txt',\n",
              " 'kvalit_1524593247.7962353.jpg',\n",
              " 'deti_1524589709.2837293.txt',\n",
              " 'zhotovil_1524590817.5582643.txt',\n",
              " 'p_1524578865.0020356.txt',\n",
              " 'moznym_1524602292.0003393.jpg',\n",
              " 'casova_1524590676.7087977.jpg',\n",
              " 'star_1524590701.4085941.txt',\n",
              " 'tanec_1524589842.2384279.txt',\n",
              " 'dik_1524602347.2653005.txt',\n",
              " 'ktere_1524518753.7175298.jpg',\n",
              " 'zidle_1524591995.7657182.jpg',\n",
              " 'vymenou_1524602633.3592827.txt',\n",
              " 'efektech_1524589408.49104.txt',\n",
              " 'kvalit_1524593247.7962353.txt',\n",
              " 'dobrem_1524518876.6049273.txt',\n",
              " 'vchodu_1524592047.0705998.jpg',\n",
              " 'posledni_1524602938.3763795.txt',\n",
              " 'celek_1524596790.7391129.jpg',\n",
              " 'lepsi_1524588654.409141.jpg',\n",
              " 'jejiz_1524603112.0123355.jpg',\n",
              " 'tanec_1524589842.2384279.jpg',\n",
              " 'posledni_1524515114.2992716.jpg',\n",
              " 'velka_1524599482.7281902.jpg',\n",
              " 'pomahal_1524595866.9635077.jpg',\n",
              " 'je_1524588639.2834225.txt',\n",
              " 'dobrem_1524518876.6049273.jpg',\n",
              " 'sedlak_1524593382.3322437.jpg',\n",
              " 'Petrikova_1524514583.068572.jpg',\n",
              " 'ponekud_1524603404.6415026.jpg',\n",
              " 'ochotne_1524595918.914375.jpg',\n",
              " 'pak_1524516257.6320536.txt',\n",
              " 'nechci_1524598362.3858943.jpg',\n",
              " 'role_1524591556.2398725.jpg',\n",
              " 'za_1524589906.6609583.jpg',\n",
              " 'ale_1524592606.403816.jpg',\n",
              " 'cleny_1524516430.9855707.txt',\n",
              " 'sceny_1524589364.8034594.txt',\n",
              " 'starsi_1524592624.5416079.txt',\n",
              " 'a_1524592214.2986786.txt',\n",
              " 'spolecnost_1524589004.6804626.jpg',\n",
              " 'hry_1524580304.8022823.txt',\n",
              " 'na_1524516561.1258016.jpg',\n",
              " 'o_1524519478.7979174.txt',\n",
              " 'ze_1524593131.004092.jpg',\n",
              " 'od_1524592152.058905.jpg',\n",
              " 'byli_1524516625.5434425.txt',\n",
              " 'rizen_1524589918.8272338.jpg',\n",
              " 'velmi_1524592556.1473296.jpg',\n",
              " 'vyprava_1524589559.3072557.txt',\n",
              " 'docileno_1524518951.1012805.txt',\n",
              " 'pro_1524515926.7396965.txt',\n",
              " 'bude_1524602446.393196.txt',\n",
              " 'ochotne_1524595918.914375.txt',\n",
              " 'slzam_1524589986.870594.jpg',\n",
              " 'chvili_1524592604.2691162.txt',\n",
              " 'hry_1524602800.5933363.jpg',\n",
              " 'z_1524592297.6949866.txt',\n",
              " 'zaclonkami_1524602596.6387064.jpg',\n",
              " 'cast_1524589452.1800482.txt',\n",
              " 'utrpela_1524592224.7288432.txt',\n",
              " 'sceny_1524599375.4769254.jpg',\n",
              " 'zari_1524589295.7048495.txt',\n",
              " 'ucinku_1524597792.4571748.jpg',\n",
              " 'pani_1524589650.6627476.txt',\n",
              " 'svou_1524592333.3965127.jpg',\n",
              " 'Hra_1524590243.9014559.txt',\n",
              " 'sebe_1524598568.8318808.txt',\n",
              " 'byti_1524592632.5209095.txt',\n",
              " 'cleny_1524516430.9855707.jpg',\n",
              " 'prece_1524595969.401308.txt',\n",
              " 'nich_1524588997.8379085.txt',\n",
              " 'po_1524588601.4870958.jpg',\n",
              " 'v_1524596757.6442463.txt',\n",
              " 'tomu_1524590226.3315618.jpg',\n",
              " 'toho_1524599060.8892338.jpg',\n",
              " 'navrat_1524590023.1517851.jpg',\n",
              " 'velmi_1524592556.1473296.txt',\n",
              " 've_1524515046.770103.jpg',\n",
              " 'Ruzena_1524519251.300957.txt',\n",
              " 'obsazeni_1524514646.6071055.txt',\n",
              " 'role_1524591556.2398725.txt',\n",
              " 'radna_1524602200.956918.jpg',\n",
              " 'Hra_1524589626.4804344.txt',\n",
              " 'vezeni_1524589490.5297813.jpg',\n",
              " 'tu_1524514591.313838.txt',\n",
              " 'vecer_1524516079.2984262.txt',\n",
              " 'a_1524597023.2978108.txt',\n",
              " 'kvitovati_1524598985.0359669.txt',\n",
              " 'spojeno_1524516653.3881886.jpg',\n",
              " 'tim_1524593215.1009777.jpg',\n",
              " 'pri_1524602360.7037625.jpg',\n",
              " 'kvetna_1524580666.2010486.jpg',\n",
              " 'manipulace_1524602379.2420688.jpg',\n",
              " 'peci_1524602252.630128.txt',\n",
              " 'ze_1524599043.8297303.jpg',\n",
              " 'velice_1524599379.1986878.txt',\n",
              " 've_1524515046.770103.txt',\n",
              " 'jeste_1524595854.61011.jpg',\n",
              " 'tu_1524514591.313838.jpg',\n",
              " 'rozhrnuti_1524591878.9552526.jpg',\n",
              " 'aktovky_1524578743.2928553.txt',\n",
              " 'to_1524589550.7821186.txt',\n",
              " 'po_1524588601.4870958.txt',\n",
              " 'i_1524599466.2182488.jpg',\n",
              " 'lasky_1524578788.0607023.jpg',\n",
              " 'lepsi_1524588654.409141.txt',\n",
              " 'a_1524602635.6249425.txt',\n",
              " 'lilo_1524599558.0626867.jpg',\n",
              " 'casova_1524590676.7087977.txt',\n",
              " 'velka_1524599482.7281902.txt',\n",
              " 'to_1524602795.275693.jpg',\n",
              " 'o_1524519478.7979174.jpg',\n",
              " 'pani_1524589650.6627476.jpg',\n",
              " 'se_1524588703.326166.txt',\n",
              " 'kvetna_1524596753.5652533.txt',\n",
              " 'na_1524602928.4656177.jpg',\n",
              " 'solove_1524519392.756977.txt',\n",
              " 'toto_1524585221.521111.txt',\n",
              " 'efektech_1524589408.49104.jpg',\n",
              " 'vezeni_1524589490.5297813.txt',\n",
              " 'to_1524589550.7821186.jpg',\n",
              " 'chuda_1524595981.420073.jpg',\n",
              " 'podlahou_1524602492.6165037.jpg',\n",
              " 'asi_1524592217.0114908.jpg',\n",
              " 'v_1524592052.490415.jpg',\n",
              " 'chvili_1524592604.2691162.jpg',\n",
              " 'tim_1524593215.1009777.txt',\n",
              " 'dle_1524514818.3032138.jpg',\n",
              " 'velice_1524599379.1986878.jpg',\n",
              " 'ucinku_1524597792.4571748.txt',\n",
              " 'o_1524515848.1636357.txt',\n",
              " 'a_1524593147.3578424.txt',\n",
              " 'na_1524516561.1258016.txt',\n",
              " 'pekneho_1524597763.7538075.txt',\n",
              " 'dle_1524589547.624182.jpg',\n",
              " 'vyuziti_1524588888.039481.txt',\n",
              " 'take_1524516549.5822659.jpg',\n",
              " 'drobnosti_1524591986.4533603.jpg',\n",
              " 'smeru_1524603009.262807.txt',\n",
              " 'take_1524589629.499942.txt',\n",
              " 'hudba_1524592311.4590044.txt',\n",
              " 'scana_1524602389.277863.jpg',\n",
              " 'ze_1524515951.1154408.jpg',\n",
              " 'reziser_1524514823.447825.txt',\n",
              " 'pekneho_1524518977.6385343.jpg',\n",
              " 'jez_1524596003.5313365.jpg',\n",
              " 'moznym_1524602292.0003393.txt',\n",
              " 'spolecnost_1524589004.6804626.txt',\n",
              " 'obou_1524598912.3067942.txt',\n",
              " 'sice_1524598092.5378118.txt',\n",
              " 'zhotovil_1524515244.8285897.jpg',\n",
              " 'o_1524515848.1636357.jpg',\n",
              " 'opakovana_1524580774.0210066.jpg',\n",
              " 'sami_1524588729.3156269.txt',\n",
              " 'hrala_1524589007.701087.txt',\n",
              " 'reziser_1524514823.447825.jpg',\n",
              " 'nez_1524593069.1048148.txt',\n",
              " 'za_1524589906.6609583.txt',\n",
              " 'ochotou_1524591615.7660718.txt',\n",
              " 'divadlo_1524515955.135455.jpg',\n",
              " 'zidle_1524591995.7657182.txt',\n",
              " 'uspechu_1524602152.3513834.txt',\n",
              " 's_1524592094.0593662.jpg',\n",
              " 'lepe_1524596019.8818152.jpg',\n",
              " 'v_1524515795.7452133.jpg',\n",
              " 'i_1524599466.2182488.txt',\n",
              " 'jezto_1524602226.8480668.jpg',\n",
              " 'niz_1524519549.111019.jpg',\n",
              " 'velice_1524595996.1747973.jpg',\n",
              " 'podlahou_1524602492.6165037.txt',\n",
              " 'deti_1524589709.2837293.jpg',\n",
              " 'cvicicimi_1524516416.711861.jpg',\n",
              " 'jednani_1524591480.5707736.jpg',\n",
              " 'hry_1524580304.8022823.jpg',\n",
              " 'lezeni_1524519239.257094.txt',\n",
              " 'a_1524519480.5092137.jpg',\n",
              " 'ochotou_1524591615.7660718.jpg',\n",
              " 'pani_1524578877.5081291.txt',\n",
              " 'tu_1524591324.7917233.jpg',\n",
              " 'nechci_1524598362.3858943.txt',\n",
              " 'asi_1524592217.0114908.txt',\n",
              " 'se_1524602144.1829488.txt',\n",
              " 'p_1524591517.5613427.txt',\n",
              " 'jednani_1524591480.5707736.txt',\n",
              " 'opakovaly_1524516443.6871626.jpg',\n",
              " 'hral_1524591553.498814.jpg',\n",
              " 'vse_1524596783.4843147.jpg',\n",
              " 'se_1524602144.1829488.jpg',\n",
              " 'pozornost_1524603458.936942.txt',\n",
              " 'Novaka_1524580891.5183928.txt',\n",
              " 'roli_1524588661.7935984.jpg',\n",
              " 'zhotovil_1524590817.5582643.jpg',\n",
              " 'a_1524593147.3578424.jpg',\n",
              " 'jez_1524596003.5313365.txt',\n",
              " 'lilo_1524599558.0626867.txt',\n",
              " 'hrano_1524518800.3594253.jpg',\n",
              " 'a_1524588497.483587.jpg',\n",
              " 'ucast_1524599368.2968616.txt',\n",
              " 'pri_1524602360.7037625.txt',\n",
              " 'a_1524519692.5102866.jpg',\n",
              " 'cast_1524589452.1800482.jpg',\n",
              " 'nepovedla_1524589545.6932507.txt',\n",
              " 'jejiz_1524603112.0123355.txt',\n",
              " 'bez_1524580636.071492.jpg',\n",
              " 'se_1524592117.6157832.jpg',\n",
              " 've_1524602650.3343.txt',\n",
              " 'Dub_1524590821.4234123.jpg',\n",
              " 'lide_1524588597.058057.txt',\n",
              " 'take_1524592288.967167.txt',\n",
              " 'ani_1524592433.297812.txt',\n",
              " 'hospode_1524519412.5684505.jpg',\n",
              " 'v_1524592052.490415.txt',\n",
              " 'zaclonkami_1524602596.6387064.txt',\n",
              " 'v_1524515795.7452133.txt',\n",
              " 'uprave_1524589394.306539.jpg',\n",
              " 'bez_1524580636.071492.txt',\n",
              " 'ochotniku_1524579971.4111047.jpg',\n",
              " 'bez_1524593250.529551.txt',\n",
              " 'stmivat_1524588989.9112396.jpg',\n",
              " 'dle_1524514818.3032138.txt',\n",
              " 'mezi_1524516281.8589544.jpg',\n",
              " 've_1524591622.0586903.jpg',\n",
              " 'opakovana_1524580774.0210066.txt',\n",
              " 'v_1524596757.6442463.jpg',\n",
              " 've_1524591622.0586903.txt',\n",
              " 'pani_1524578877.5081291.jpg',\n",
              " 'zatimni_1524515234.6426156.jpg',\n",
              " 'ale_1524592606.403816.txt',\n",
              " 'vzdati_1524599010.5960643.jpg',\n",
              " 'rozhrnuti_1524591878.9552526.txt',\n",
              " 'hry_1524602800.5933363.txt',\n",
              " 'spadu_1524590090.4865482.jpg',\n",
              " 'ucast_1524599368.2968616.jpg',\n",
              " 'stroj_1524590829.040007.jpg',\n",
              " 'osvetleni_1524591951.8309565.txt',\n",
              " 'nez_1524593069.1048148.jpg',\n",
              " 'toto_1524585221.521111.jpg',\n",
              " 'mel_1524592611.9511201.jpg',\n",
              " 's_1524592094.0593662.txt',\n",
              " 'bez_1524593250.529551.jpg',\n",
              " 'bylo_1524516518.7091491.jpg',\n",
              " 'na_1524580520.5250125.txt',\n",
              " 'brano_1524599361.1592133.txt',\n",
              " 'nejlepsi_1524597994.2095506.txt',\n",
              " 'lide_1524588597.058057.jpg',\n",
              " 'jeho_1524592991.8803027.jpg',\n",
              " 'prospech_1524589904.0028367.jpg',\n",
              " 'i_1524592319.1985354.txt',\n",
              " 'slovni_1524592363.2068694.jpg',\n",
              " 'ucinku_1524598285.1851125.jpg',\n",
              " 'pekneho_1524598293.5488596.jpg',\n",
              " 'obsazeni_1524580658.5813694.txt',\n",
              " 'uspechu_1524602152.3513834.jpg',\n",
              " 'ze_1524515951.1154408.txt',\n",
              " 'i_1524603219.028765.txt',\n",
              " 'Petrikova_1524514583.068572.txt',\n",
              " 'sklamala_1524602967.0621345.txt',\n",
              " 'Rok_1524518808.1703672.jpg',\n",
              " 'na_1524602928.4656177.txt',\n",
              " 'nejlepsi_1524597994.2095506.jpg',\n",
              " 'mel_1524592611.9511201.txt',\n",
              " 'od_1524580865.1323652.jpg',\n",
              " 'posledni_1524602938.3763795.jpg',\n",
              " 'pozornost_1524603458.936942.jpg',\n",
              " 'zadosti_1524591608.376866.txt',\n",
              " 'Rok_1524518808.1703672.txt',\n",
              " 'radna_1524602200.956918.txt',\n",
              " 'ducha_1524602832.2009873.txt',\n",
              " 'svou_1524592333.3965127.txt',\n",
              " 'spadu_1524590090.4865482.txt',\n",
              " 'prece_1524593096.1383379.txt',\n",
              " 'stmivat_1524588989.9112396.txt',\n",
              " 'jeviste_1524518955.2834117.jpg',\n",
              " 'vyprava_1524589559.3072557.jpg',\n",
              " 'Poprve_1524598111.7259564.jpg',\n",
              " 's_1524591597.6946654.jpg',\n",
              " 'slovni_1524592363.2068694.txt',\n",
              " 'temto_1524516179.4053862.jpg',\n",
              " 'jeviste_1524518955.2834117.txt',\n",
              " 'jednanich_1524591346.3171694.jpg',\n",
              " 'pomahal_1524595866.9635077.txt',\n",
              " 'chvili_1524515103.8012388.txt',\n",
              " 'jeste_1524595854.61011.txt',\n",
              " 'ucinku_1524598285.1851125.txt',\n",
              " 'potizim_1524516137.8488872.txt',\n",
              " 'posledni_1524515114.2992716.txt',\n",
              " 'p_1524578865.0020356.jpg',\n",
              " 'divadlo_1524515955.135455.txt',\n",
              " 'meli_1524519611.4294782.jpg',\n",
              " 'rozruchu_1524592459.9356563.txt',\n",
              " 'vice_1524592346.0953574.txt',\n",
              " 'i_1524603219.028765.jpg',\n",
              " 'ji_1524597936.1174078.jpg',\n",
              " 'hudba_1524592311.4590044.jpg',\n",
              " 'zad_1524591853.0723047.jpg',\n",
              " 'zari_1524589295.7048495.jpg',\n",
              " 'sluha_1524591240.3614209.txt',\n",
              " 'naladova_1524592504.6243207.jpg',\n",
              " 'ponekud_1524603404.6415026.txt',\n",
              " 'to_1524516520.8520362.jpg',\n",
              " 'bylo_1524516518.7091491.txt',\n",
              " 'je_1524588639.2834225.jpg',\n",
              " 'vchodu_1524592047.0705998.txt',\n",
              " 'ni_1524602206.2340496.txt',\n",
              " 'zastreli_1524603308.0835888.jpg',\n",
              " 'oblekani_1524589716.8044167.txt',\n",
              " 'sluha_1524591240.3614209.jpg',\n",
              " 'aktovky_1524578743.2928553.jpg',\n",
              " 'mezi_1524516281.8589544.txt',\n",
              " 'Poprve_1524598111.7259564.txt',\n",
              " 'to_1524516520.8520362.txt',\n",
              " 'dle_1524589547.624182.txt',\n",
              " 'lasky_1524578788.0607023.txt',\n",
              " 'prece_1524593096.1383379.jpg',\n",
              " 'lepsiho_1524595847.6866791.jpg',\n",
              " 'a_1524603298.6680105.txt',\n",
              " 'srpna_1524597982.5448158.jpg',\n",
              " 'Novaka_1524580891.5183928.jpg',\n",
              " 'celek_1524596790.7391129.txt',\n",
              " 'uspechu_1524519622.284368.jpg',\n",
              " 'z_1524602477.9724753.txt',\n",
              " 'na_1524591170.0906389.jpg',\n",
              " 'byla_1524602767.001207.jpg',\n",
              " 'skoncil_1524593078.402689.jpg',\n",
              " 'rod_1524591561.40505.jpg',\n",
              " 'jednanich_1524591346.3171694.txt',\n",
              " 'tu_1524519097.7711337.jpg',\n",
              " 'kolo_1524519446.1751122.jpg',\n",
              " 'sedlak_1524593382.3322437.txt',\n",
              " 'ktere_1524518753.7175298.txt',\n",
              " 'pekneho_1524598293.5488596.txt',\n",
              " 'z_1524602477.9724753.jpg',\n",
              " 'a_1524597023.2978108.jpg',\n",
              " 'navrat_1524590023.1517851.txt',\n",
              " 'ale_1524595788.5235717.txt',\n",
              " 'soucasne_1524516587.039353.txt',\n",
              " 'z_1524591588.1543186.txt',\n",
              " 'skolni_1524589934.0943646.txt',\n",
              " 'zadosti_1524591608.376866.jpg',\n",
              " 'kolo_1524519446.1751122.txt',\n",
              " 'na_1524591170.0906389.txt',\n",
              " 'zastreli_1524603308.0835888.txt',\n",
              " 'ze_1524593131.004092.txt',\n",
              " 's_1524598304.1361315.jpg',\n",
              " 'sebe_1524598568.8318808.jpg',\n",
              " 'vse_1524596783.4843147.txt',\n",
              " 'sceny_1524599375.4769254.txt',\n",
              " 'ucinkovali_1524578921.6366966.txt',\n",
              " 'Hra_1524590243.9014559.jpg',\n",
              " 'tu_1524591324.7917233.txt',\n",
              " 'niz_1524519549.111019.txt',\n",
              " 'take_1524592288.967167.jpg',\n",
              " 'i_1524592319.1985354.jpg',\n",
              " 'sceny_1524589364.8034594.jpg',\n",
              " 'peci_1524602252.630128.jpg',\n",
              " 'lezeni_1524519239.257094.jpg',\n",
              " 'sedlak_1524593045.8564503.txt',\n",
              " 'a_1524519414.6478684.jpg',\n",
              " 'byli_1524516625.5434425.jpg',\n",
              " 'nez_1524519554.6171317.jpg',\n",
              " 'pro_1524591675.8293002.txt',\n",
              " 'kvitovati_1524598985.0359669.jpg',\n",
              " 'nez_1524519554.6171317.txt',\n",
              " 'ucinkovali_1524578921.6366966.jpg',\n",
              " 'hru_1524580093.788054.txt',\n",
              " 'jeho_1524592991.8803027.txt',\n",
              " 'roli_1524588661.7935984.txt',\n",
              " 'a_1524603298.6680105.jpg',\n",
              " 'svet_1524602716.8929932.txt',\n",
              " 'ducha_1524602832.2009873.jpg',\n",
              " 'pro_1524591675.8293002.jpg',\n",
              " 'obsazeni_1524580658.5813694.jpg',\n",
              " 've_1524602650.3343.jpg',\n",
              " 'sklamala_1524602967.0621345.jpg',\n",
              " 'Hra_1524589626.4804344.jpg',\n",
              " 'byti_1524592632.5209095.jpg',\n",
              " 'oknem_1524519201.3613262.txt',\n",
              " 'stodola_1524602537.1500344.txt',\n",
              " 'a_1524519692.5102866.txt',\n",
              " 'vyuziti_1524588888.039481.jpg',\n",
              " 'kvetna_1524580666.2010486.txt',\n",
              " 'brano_1524599361.1592133.jpg',\n",
              " 'drobnosti_1524591986.4533603.txt',\n",
              " 'pro_1524515926.7396965.jpg',\n",
              " 'vymenou_1524602633.3592827.jpg',\n",
              " 'predstaveni_1524515022.6022727.jpg',\n",
              " 'smeru_1524603009.262807.jpg',\n",
              " 'prece_1524595969.401308.jpg',\n",
              " 'prospech_1524589904.0028367.txt',\n",
              " 'naladova_1524592504.6243207.txt',\n",
              " 'predstaveni_1524515022.6022727.txt',\n",
              " 'take_1524593211.0460505.jpg',\n",
              " 'postavena_1524602697.1135442.jpg',\n",
              " 'osvetleni_1524591951.8309565.jpg',\n",
              " 'lepsiho_1524595847.6866791.txt',\n",
              " 'starsi_1524592624.5416079.jpg',\n",
              " 'pochopeni_1524515946.161441.jpg',\n",
              " 'bude_1524602446.393196.jpg',\n",
              " 'a_1524519414.6478684.txt',\n",
              " 'neminula_1524595991.1917827.jpg',\n",
              " 'rozruchu_1524592459.9356563.jpg',\n",
              " 'pak_1524516257.6320536.jpg',\n",
              " 'ni_1524602206.2340496.jpg',\n",
              " 'hrala_1524589007.701087.jpg',\n",
              " 'zad_1524591853.0723047.txt',\n",
              " 'jezto_1524602226.8480668.txt',\n",
              " 'meli_1524519611.4294782.txt',\n",
              " 'sami_1524588729.3156269.jpg',\n",
              " 'sice_1524597026.1732242.jpg',\n",
              " 'velice_1524595996.1747973.txt',\n",
              " 'rizen_1524589918.8272338.txt',\n",
              " 'lepe_1524596019.8818152.txt',\n",
              " 'ochotu_1524598942.7213798.jpg',\n",
              " 'to_1524602795.275693.txt',\n",
              " 'Petr_1524603326.318941.txt',\n",
              " 'obrazu_1524602625.8037648.jpg',\n",
              " 'z_1524591588.1543186.jpg',\n",
              " 'ma_1524515932.169072.jpg',\n",
              " 'rod_1524591561.40505.txt',\n",
              " 'vecer_1524516079.2984262.jpg',\n",
              " 'obrazu_1524602625.8037648.txt',\n",
              " 'docileno_1524518951.1012805.jpg',\n",
              " 'ma_1524515932.169072.txt',\n",
              " 'se_1524588703.326166.jpg',\n",
              " 'star_1524590701.4085941.jpg',\n",
              " 'svet_1524602716.8929932.jpg',\n",
              " 'vzdati_1524599010.5960643.txt',\n",
              " 'scana_1524602389.277863.txt',\n",
              " 'zatimni_1524515234.6426156.txt',\n",
              " 'ale_1524595788.5235717.jpg',\n",
              " 'sice_1524598092.5378118.jpg',\n",
              " 'obsazeni_1524514646.6071055.jpg',\n",
              " 'manipulace_1524602379.2420688.txt',\n",
              " 'obou_1524598912.3067942.jpg',\n",
              " 'nez_1524602954.2933917.jpg',\n",
              " 'toho_1524599060.8892338.txt']"
            ]
          },
          "metadata": {
            "tags": []
          },
          "execution_count": 42
        }
      ]
    },
    {
      "cell_type": "markdown",
      "metadata": {
        "id": "5ne-MIgTzz8P"
      },
      "source": [
        "### EDA"
      ]
    },
    {
      "cell_type": "code",
      "metadata": {
        "id": "je8A09FPI9Bx",
        "outputId": "5ec26c1e-0a42-4e1b-a2db-bac0071e8db3",
        "colab": {
          "base_uri": "https://localhost:8080/",
          "height": 286
        }
      },
      "source": [
        "from matplotlib.image import imread\n",
        "img=imread('/data/processed/breta/words_gaplines/A_1513181559.8292634.png')\n",
        "plt.imshow(img)"
      ],
      "execution_count": null,
      "outputs": [
        {
          "output_type": "execute_result",
          "data": {
            "text/plain": [
              "<matplotlib.image.AxesImage at 0x7f764c61f5c0>"
            ]
          },
          "metadata": {
            "tags": []
          },
          "execution_count": 43
        },
        {
          "output_type": "display_data",
          "data": {
            "image/png": "[encoded data removed]",
            "text/plain": [
              "<Figure size 432x288 with 1 Axes>"
            ]
          },
          "metadata": {
            "tags": [],
            "needs_background": "light"
          }
        }
      ]
    },
    {
      "cell_type": "code",
      "metadata": {
        "id": "4HnROQrZJkAx",
        "outputId": "270ed7b0-0ed5-4132-a26b-5e715edb2bed",
        "colab": {
          "base_uri": "https://localhost:8080/",
          "height": 35
        }
      },
      "source": [
        "ww = [\"A_1513181559.8292634.png\", \"A_1513181559.8292636.png\"]\n",
        "print(ww[1].split('_'))"
      ],
      "execution_count": null,
      "outputs": [
        {
          "output_type": "stream",
          "text": [
            "['A', '1513181559.8292636.png']\n"
          ],
          "name": "stdout"
        }
      ]
    },
    {
      "cell_type": "code",
      "metadata": {
        "id": "vJHMT9hzKt6w",
        "outputId": "684ebf06-662e-43ce-87ed-9c179feee3ca",
        "colab": {
          "base_uri": "https://localhost:8080/",
          "height": 35
        }
      },
      "source": [
        "#for i in os.listdir(words_path):\n",
        "#  train2 = [io.imread()]\n",
        "training = []\n",
        "filelist=os.listdir(words_path)\n",
        "for fichier in filelist[:]: # filelist[:] makes a copy of filelist.\n",
        "    if (fichier.endswith(\".png\")):\n",
        "        training.append(fichier)\n",
        "print(training[:5])"
      ],
      "execution_count": null,
      "outputs": [
        {
          "output_type": "stream",
          "text": [
            "['hungry_1514294635.6984315.png', 'vcera_1513113488.1125703.png', 'nature_1513543382.8408701.png', 'stroj_1514324408.947093.png', 'jak_1513291159.7738807.png']\n"
          ],
          "name": "stdout"
        }
      ]
    },
    {
      "cell_type": "code",
      "metadata": {
        "id": "2YBCFLmBVxsa",
        "outputId": "2dff841d-2340-495a-83ed-2f03bf245bd0",
        "colab": {
          "base_uri": "https://localhost:8080/",
          "height": 35
        }
      },
      "source": [
        "gt = []\n",
        "tag = []\n",
        "for i in training:\n",
        "  gg = i.split('_')\n",
        "  gt.append(gg[0])\n",
        "print(gt[:2])"
      ],
      "execution_count": null,
      "outputs": [
        {
          "output_type": "stream",
          "text": [
            "['hungry', 'vcera']\n"
          ],
          "name": "stdout"
        }
      ]
    },
    {
      "cell_type": "code",
      "metadata": {
        "id": "XgJymbrvneCP",
        "outputId": "a451e0dd-4dcd-4278-ec27-9d9f56083483",
        "colab": {
          "base_uri": "https://localhost:8080/",
          "height": 35
        }
      },
      "source": [
        "!pip install ipython-autotime"
      ],
      "execution_count": null,
      "outputs": [
        {
          "output_type": "stream",
          "text": [
            "Requirement already satisfied: ipython-autotime in /usr/local/lib/python3.6/dist-packages (0.1)\n"
          ],
          "name": "stdout"
        }
      ]
    },
    {
      "cell_type": "code",
      "metadata": {
        "id": "5ATXEeClngYB"
      },
      "source": [
        "%load_ext autotime"
      ],
      "execution_count": null,
      "outputs": []
    },
    {
      "cell_type": "markdown",
      "metadata": {
        "id": "P2cU4ZTO1G5_"
      },
      "source": [
        "### PREPROCESSING"
      ]
    },
    {
      "cell_type": "code",
      "metadata": {
        "id": "KEaRFAZkBp3K",
        "outputId": "b36abf14-1a33-4e36-fc6a-cd2d2e873839",
        "colab": {
          "base_uri": "https://localhost:8080/",
          "height": 35
        }
      },
      "source": [
        "df = pd.DataFrame()"
      ],
      "execution_count": null,
      "outputs": [
        {
          "output_type": "stream",
          "text": [
            "time: 5.01 ms\n"
          ],
          "name": "stdout"
        }
      ]
    },
    {
      "cell_type": "code",
      "metadata": {
        "id": "4kWKozIwBtMD",
        "outputId": "5a3d43f4-3250-4811-ab22-0c3ceb492006",
        "colab": {
          "base_uri": "https://localhost:8080/",
          "height": 35
        }
      },
      "source": [
        "df['img'] = training[:int(0.5 * len(training))]"
      ],
      "execution_count": null,
      "outputs": [
        {
          "output_type": "stream",
          "text": [
            "time: 10.6 ms\n"
          ],
          "name": "stdout"
        }
      ]
    },
    {
      "cell_type": "code",
      "metadata": {
        "id": "rhPyR0ToBxyu",
        "outputId": "e2ee2cac-1861-4b97-a4be-b7412fef9898",
        "colab": {
          "base_uri": "https://localhost:8080/",
          "height": 35
        }
      },
      "source": [
        "df['label'] = gt[:int(0.5 * len(gt))]"
      ],
      "execution_count": null,
      "outputs": [
        {
          "output_type": "stream",
          "text": [
            "time: 4.09 ms\n"
          ],
          "name": "stdout"
        }
      ]
    },
    {
      "cell_type": "code",
      "metadata": {
        "id": "DVW2R0sgB2Jq",
        "outputId": "7103330d-4a19-408e-edd5-0e7d8365bddd",
        "colab": {
          "base_uri": "https://localhost:8080/",
          "height": 224
        }
      },
      "source": [
        "df.head()"
      ],
      "execution_count": null,
      "outputs": [
        {
          "output_type": "execute_result",
          "data": {
            "text/html": [
              "<div>\n",
              "<style scoped>\n",
              "    .dataframe tbody tr th:only-of-type {\n",
              "        vertical-align: middle;\n",
              "    }\n",
              "\n",
              "    .dataframe tbody tr th {\n",
              "        vertical-align: top;\n",
              "    }\n",
              "\n",
              "    .dataframe thead th {\n",
              "        text-align: right;\n",
              "    }\n",
              "</style>\n",
              "<table border=\"1\" class=\"dataframe\">\n",
              "  <thead>\n",
              "    <tr style=\"text-align: right;\">\n",
              "      <th></th>\n",
              "      <th>img</th>\n",
              "      <th>label</th>\n",
              "    </tr>\n",
              "  </thead>\n",
              "  <tbody>\n",
              "    <tr>\n",
              "      <th>0</th>\n",
              "      <td>hungry_1514294635.6984315.png</td>\n",
              "      <td>hungry</td>\n",
              "    </tr>\n",
              "    <tr>\n",
              "      <th>1</th>\n",
              "      <td>vcera_1513113488.1125703.png</td>\n",
              "      <td>vcera</td>\n",
              "    </tr>\n",
              "    <tr>\n",
              "      <th>2</th>\n",
              "      <td>nature_1513543382.8408701.png</td>\n",
              "      <td>nature</td>\n",
              "    </tr>\n",
              "    <tr>\n",
              "      <th>3</th>\n",
              "      <td>stroj_1514324408.947093.png</td>\n",
              "      <td>stroj</td>\n",
              "    </tr>\n",
              "    <tr>\n",
              "      <th>4</th>\n",
              "      <td>jak_1513291159.7738807.png</td>\n",
              "      <td>jak</td>\n",
              "    </tr>\n",
              "  </tbody>\n",
              "</table>\n",
              "</div>"
            ],
            "text/plain": [
              "                             img   label\n",
              "0  hungry_1514294635.6984315.png  hungry\n",
              "1   vcera_1513113488.1125703.png   vcera\n",
              "2  nature_1513543382.8408701.png  nature\n",
              "3    stroj_1514324408.947093.png   stroj\n",
              "4     jak_1513291159.7738807.png     jak"
            ]
          },
          "metadata": {
            "tags": []
          },
          "execution_count": 52
        },
        {
          "output_type": "stream",
          "text": [
            "time: 21.2 ms\n"
          ],
          "name": "stdout"
        }
      ]
    },
    {
      "cell_type": "code",
      "metadata": {
        "id": "8puipDXbClBN",
        "outputId": "25653c3b-ac49-41df-bf70-0263576b3221",
        "colab": {
          "base_uri": "https://localhost:8080/",
          "height": 35
        }
      },
      "source": [
        "ydf = pd.DataFrame()"
      ],
      "execution_count": null,
      "outputs": [
        {
          "output_type": "stream",
          "text": [
            "time: 2.76 ms\n"
          ],
          "name": "stdout"
        }
      ]
    },
    {
      "cell_type": "code",
      "metadata": {
        "id": "k_G-yE_gDuyy",
        "outputId": "0ac648bb-4a43-4fd4-a356-ad33732dbdf2",
        "colab": {
          "base_uri": "https://localhost:8080/",
          "height": 53
        }
      },
      "source": [
        "print(len(gt))"
      ],
      "execution_count": null,
      "outputs": [
        {
          "output_type": "stream",
          "text": [
            "5069\n",
            "time: 902 µs\n"
          ],
          "name": "stdout"
        }
      ]
    },
    {
      "cell_type": "code",
      "metadata": {
        "id": "m4jzqsbuCpK8",
        "outputId": "5e4059b5-7f69-4e34-96e8-f36cd0b9f846",
        "colab": {
          "base_uri": "https://localhost:8080/",
          "height": 35
        }
      },
      "source": [
        "ydf['img'] = training[int(0.5 * len(training)):5068]"
      ],
      "execution_count": null,
      "outputs": [
        {
          "output_type": "stream",
          "text": [
            "time: 5.69 ms\n"
          ],
          "name": "stdout"
        }
      ]
    },
    {
      "cell_type": "code",
      "metadata": {
        "id": "SFtDyx9BCqwL",
        "outputId": "94a4d214-b82c-4c56-de54-f01136dff8e1",
        "colab": {
          "base_uri": "https://localhost:8080/",
          "height": 35
        }
      },
      "source": [
        "ydf['label'] = gt[int(0.5 * len(gt)):5068]"
      ],
      "execution_count": null,
      "outputs": [
        {
          "output_type": "stream",
          "text": [
            "time: 4.75 ms\n"
          ],
          "name": "stdout"
        }
      ]
    },
    {
      "cell_type": "code",
      "metadata": {
        "id": "D5bc4uBtCx5R",
        "outputId": "60dc842e-daff-4697-f2aa-bd53129f9e8c",
        "colab": {
          "base_uri": "https://localhost:8080/",
          "height": 224
        }
      },
      "source": [
        "ydf.head()"
      ],
      "execution_count": null,
      "outputs": [
        {
          "output_type": "execute_result",
          "data": {
            "text/html": [
              "<div>\n",
              "<style scoped>\n",
              "    .dataframe tbody tr th:only-of-type {\n",
              "        vertical-align: middle;\n",
              "    }\n",
              "\n",
              "    .dataframe tbody tr th {\n",
              "        vertical-align: top;\n",
              "    }\n",
              "\n",
              "    .dataframe thead th {\n",
              "        text-align: right;\n",
              "    }\n",
              "</style>\n",
              "<table border=\"1\" class=\"dataframe\">\n",
              "  <thead>\n",
              "    <tr style=\"text-align: right;\">\n",
              "      <th></th>\n",
              "      <th>img</th>\n",
              "      <th>label</th>\n",
              "    </tr>\n",
              "  </thead>\n",
              "  <tbody>\n",
              "    <tr>\n",
              "      <th>0</th>\n",
              "      <td>experience_1513543877.8435962.png</td>\n",
              "      <td>experience</td>\n",
              "    </tr>\n",
              "    <tr>\n",
              "      <th>1</th>\n",
              "      <td>life_1513544235.178952.png</td>\n",
              "      <td>life</td>\n",
              "    </tr>\n",
              "    <tr>\n",
              "      <th>2</th>\n",
              "      <td>velky_1513551389.0504284.png</td>\n",
              "      <td>velky</td>\n",
              "    </tr>\n",
              "    <tr>\n",
              "      <th>3</th>\n",
              "      <td>rec_1513531852.1567945.png</td>\n",
              "      <td>rec</td>\n",
              "    </tr>\n",
              "    <tr>\n",
              "      <th>4</th>\n",
              "      <td>look_1513541756.7586353.png</td>\n",
              "      <td>look</td>\n",
              "    </tr>\n",
              "  </tbody>\n",
              "</table>\n",
              "</div>"
            ],
            "text/plain": [
              "                                 img       label\n",
              "0  experience_1513543877.8435962.png  experience\n",
              "1         life_1513544235.178952.png        life\n",
              "2       velky_1513551389.0504284.png       velky\n",
              "3         rec_1513531852.1567945.png         rec\n",
              "4        look_1513541756.7586353.png        look"
            ]
          },
          "metadata": {
            "tags": []
          },
          "execution_count": 57
        },
        {
          "output_type": "stream",
          "text": [
            "time: 15.1 ms\n"
          ],
          "name": "stdout"
        }
      ]
    },
    {
      "cell_type": "code",
      "metadata": {
        "id": "yAFfI4G1DR0E",
        "outputId": "8234c8d9-5cee-44e0-c5fa-1c865ad898a8",
        "colab": {
          "base_uri": "https://localhost:8080/",
          "height": 35
        }
      },
      "source": [
        "#ydf.drop([2534])"
      ],
      "execution_count": null,
      "outputs": [
        {
          "output_type": "stream",
          "text": [
            "time: 922 µs\n"
          ],
          "name": "stdout"
        }
      ]
    },
    {
      "cell_type": "code",
      "metadata": {
        "id": "YD3tRuYNC7VR",
        "outputId": "615ddca1-c003-4a0e-d842-a119116ce0b3",
        "colab": {
          "base_uri": "https://localhost:8080/",
          "height": 53
        }
      },
      "source": [
        "print(len(df),len(ydf))"
      ],
      "execution_count": null,
      "outputs": [
        {
          "output_type": "stream",
          "text": [
            "2534 2534\n",
            "time: 1.29 ms\n"
          ],
          "name": "stdout"
        }
      ]
    },
    {
      "cell_type": "code",
      "metadata": {
        "id": "KwqV92faa66I",
        "outputId": "f508509b-c74e-48d4-ca0f-34ab20123eb5",
        "colab": {
          "base_uri": "https://localhost:8080/",
          "height": 35
        }
      },
      "source": [
        "df1 = np.array(df)\n",
        "df1.shape"
      ],
      "execution_count": null,
      "outputs": [
        {
          "output_type": "execute_result",
          "data": {
            "text/plain": [
              "(2534, 2)"
            ]
          },
          "metadata": {
            "tags": []
          },
          "execution_count": 60
        },
        {
          "output_type": "stream",
          "text": [
            "time: 7.6 ms\n"
          ],
          "name": "stdout"
        }
      ]
    },
    {
      "cell_type": "code",
      "metadata": {
        "id": "HUDG_PzLbEet",
        "outputId": "42170706-2d4f-47e3-94c4-c254f448b13a",
        "colab": {
          "base_uri": "https://localhost:8080/",
          "height": 35
        }
      },
      "source": [
        "df2 = np.array(ydf)\n",
        "df2.shape"
      ],
      "execution_count": null,
      "outputs": [
        {
          "output_type": "execute_result",
          "data": {
            "text/plain": [
              "(2534, 2)"
            ]
          },
          "metadata": {
            "tags": []
          },
          "execution_count": 61
        },
        {
          "output_type": "stream",
          "text": [
            "time: 10.7 ms\n"
          ],
          "name": "stdout"
        }
      ]
    },
    {
      "cell_type": "code",
      "metadata": {
        "id": "H6ZkeOP658Zc",
        "outputId": "5766f023-4ffe-4bc4-ec00-8ab58227a2b4",
        "colab": {
          "base_uri": "https://localhost:8080/",
          "height": 35
        }
      },
      "source": [
        "xtrain,xtest,ytrain,ytest = train_test_split(df1, df2, test_size=0.50)"
      ],
      "execution_count": null,
      "outputs": [
        {
          "output_type": "stream",
          "text": [
            "time: 5.71 ms\n"
          ],
          "name": "stdout"
        }
      ]
    },
    {
      "cell_type": "code",
      "metadata": {
        "id": "LUXvBkV_6wyA",
        "outputId": "67557bbc-456c-4a17-ec9d-2c065bda4e71",
        "colab": {
          "base_uri": "https://localhost:8080/",
          "height": 72
        }
      },
      "source": [
        "print(len(xtrain), \"X\", xtrain[:2])"
      ],
      "execution_count": null,
      "outputs": [
        {
          "output_type": "stream",
          "text": [
            "1267 X [['jenom_1513550763.5944638.png' 'jenom']\n",
            " ['regular_1514295034.281417.png' 'regular']]\n",
            "time: 1.31 ms\n"
          ],
          "name": "stdout"
        }
      ]
    },
    {
      "cell_type": "code",
      "metadata": {
        "id": "8-mL0mmMBWB6",
        "outputId": "93dcca50-6cf9-4745-b569-edc4c3255992",
        "colab": {
          "base_uri": "https://localhost:8080/",
          "height": 53
        }
      },
      "source": [
        "print(len(ytrain), \"L\", len(gt), len(training))"
      ],
      "execution_count": null,
      "outputs": [
        {
          "output_type": "stream",
          "text": [
            "1267 L 5069 5069\n",
            "time: 4.64 ms\n"
          ],
          "name": "stdout"
        }
      ]
    },
    {
      "cell_type": "code",
      "metadata": {
        "id": "JZuUiJMxpqP5",
        "outputId": "c7118a18-2270-4b5d-9b73-41f004688211",
        "colab": {
          "base_uri": "https://localhost:8080/",
          "height": 35
        }
      },
      "source": [
        "from keras.preprocessing import image"
      ],
      "execution_count": null,
      "outputs": [
        {
          "output_type": "stream",
          "text": [
            "time: 890 µs\n"
          ],
          "name": "stdout"
        }
      ]
    },
    {
      "cell_type": "code",
      "metadata": {
        "id": "eKqUDJblA2fV",
        "outputId": "5bffddd5-2668-4b2d-f86c-07db44056e7d",
        "colab": {
          "base_uri": "https://localhost:8080/",
          "height": 53
        }
      },
      "source": [
        "filelist=os.listdir(words_path)\n",
        "print(filelist[:5])"
      ],
      "execution_count": null,
      "outputs": [
        {
          "output_type": "stream",
          "text": [
            "['hungry_1514294635.6984315.png', 'Quart_1513620804.988006.txt', 'vcera_1513113488.1125703.png', 'nature_1513543382.8408701.png', 'nature_1513543382.8408701.txt']\n",
            "time: 14.7 ms\n"
          ],
          "name": "stdout"
        }
      ]
    },
    {
      "cell_type": "code",
      "metadata": {
        "id": "B94qQnyEEqNg",
        "outputId": "de9c1376-333b-4e63-ba2b-132a655a7d99",
        "colab": {
          "base_uri": "https://localhost:8080/",
          "height": 53
        }
      },
      "source": [
        "print(xtrain.shape)"
      ],
      "execution_count": null,
      "outputs": [
        {
          "output_type": "stream",
          "text": [
            "(1267, 2)\n",
            "time: 921 µs\n"
          ],
          "name": "stdout"
        }
      ]
    },
    {
      "cell_type": "code",
      "metadata": {
        "id": "FHmGmy9VEsgQ",
        "outputId": "236217c2-9ebd-4b78-9a26-9db381568c0c",
        "colab": {
          "base_uri": "https://localhost:8080/",
          "height": 53
        }
      },
      "source": [
        "print(ytest.shape)"
      ],
      "execution_count": null,
      "outputs": [
        {
          "output_type": "stream",
          "text": [
            "(1267, 2)\n",
            "time: 1.35 ms\n"
          ],
          "name": "stdout"
        }
      ]
    },
    {
      "cell_type": "code",
      "metadata": {
        "id": "SfF-rb_rltJW",
        "outputId": "5e253166-f168-4e8e-b9ae-c08ef2f39e0e",
        "colab": {
          "base_uri": "https://localhost:8080/",
          "height": 35
        }
      },
      "source": [
        "def ss(i, j):\n",
        "  cp = []\n",
        "  for f in filelist[i:j]:\n",
        "    if f.endswith(\".png\"):\n",
        "      cp.append(f)\n",
        "#  for u in range(0, batch_S):  \n",
        "  #print(len(cp), \" XX \", i, \" X \", j)\n",
        "  return cp\n",
        "#  print(len(xtrain))"
      ],
      "execution_count": null,
      "outputs": [
        {
          "output_type": "stream",
          "text": [
            "time: 2.79 ms\n"
          ],
          "name": "stdout"
        }
      ]
    },
    {
      "cell_type": "code",
      "metadata": {
        "id": "8dscAPYDo0EB"
      },
      "source": [
        "def Loader(batch_size):\n",
        "  sd = []\n",
        "  bb = [0, 64]\n",
        "  sd.append(ss(bb[0], bb[1]))\n",
        "  for i in range(len(xtrain)):\n",
        "    if 2 * bb[1] < len(xtrain) - 1:\n",
        "      bb[0] = bb[1] \n",
        "      bb[1] = 2 * bb[0]\n",
        "      sd.append(ss(bb[0], bb[1]))\n",
        "  for l in sd:\n",
        "    for x in l:\n",
        "      print(x)\n",
        "  #print(\"L: \", len(cp), len(xtrain), len(sd))\n",
        "#for c in range(len(cp[1])):\n",
        " # print(cp[c])\n",
        "Loader(64)"
      ],
      "execution_count": null,
      "outputs": []
    },
    {
      "cell_type": "code",
      "metadata": {
        "id": "czv33DHrvYhM",
        "outputId": "a33146a9-d165-4433-d4de-5753542c5d4f",
        "colab": {
          "base_uri": "https://localhost:8080/",
          "height": 35
        }
      },
      "source": [
        "from google.colab.patches import cv2_imshow\n",
        "import cv2"
      ],
      "execution_count": null,
      "outputs": [
        {
          "output_type": "stream",
          "text": [
            "time: 1.4 ms\n"
          ],
          "name": "stdout"
        }
      ]
    },
    {
      "cell_type": "code",
      "metadata": {
        "id": "o2fBqcyj2-MU",
        "outputId": "9867dfa4-8ab8-4c91-89bd-5409c481da16",
        "colab": {
          "base_uri": "https://localhost:8080/",
          "height": 53
        }
      },
      "source": [
        "co = 0\n",
        "for i in filelist:\n",
        "  if i.endswith(\".png\"):\n",
        "    if i not in kk:\n",
        "      co += 1 \n",
        "    #  print(i)\n",
        "print(co, len(kk))"
      ],
      "execution_count": null,
      "outputs": [
        {
          "output_type": "stream",
          "text": [
            "4547 522\n",
            "time: 42.6 ms\n"
          ],
          "name": "stdout"
        }
      ]
    },
    {
      "cell_type": "code",
      "metadata": {
        "id": "ppEaVLJo_fDL",
        "outputId": "47485740-c2ec-435a-c2c5-37d688e3c15d",
        "colab": {
          "base_uri": "https://localhost:8080/",
          "height": 53
        }
      },
      "source": [
        "if 'Child_1514313714.461586.png' not in kk:\n",
        "  print(\"L\")"
      ],
      "execution_count": null,
      "outputs": [
        {
          "output_type": "stream",
          "text": [
            "L\n",
            "time: 1.3 ms\n"
          ],
          "name": "stdout"
        }
      ]
    },
    {
      "cell_type": "code",
      "metadata": {
        "id": "V8Fgm5y2_3ma",
        "outputId": "8f1a92f8-4d98-4be7-cafb-e42a3912de05",
        "colab": {
          "base_uri": "https://localhost:8080/",
          "height": 35
        }
      },
      "source": [
        "tt = 0\n",
        "for i in kk:\n",
        "  cou = i.split(\"_\")\n",
        "  if cou not in gt:\n",
        "    tt += 1\n",
        "tt"
      ],
      "execution_count": null,
      "outputs": [
        {
          "output_type": "execute_result",
          "data": {
            "text/plain": [
              "522"
            ]
          },
          "metadata": {
            "tags": []
          },
          "execution_count": 246
        },
        {
          "output_type": "stream",
          "text": [
            "time: 56.3 ms\n"
          ],
          "name": "stdout"
        }
      ]
    },
    {
      "cell_type": "code",
      "metadata": {
        "id": "NF3c5zAJn6sT",
        "outputId": "137eb315-c8c4-46e8-9e26-8ce6dadf451a",
        "colab": {
          "base_uri": "https://localhost:8080/",
          "height": 35
        }
      },
      "source": [
        "filelist=os.listdir(words_path)"
      ],
      "execution_count": null,
      "outputs": [
        {
          "output_type": "stream",
          "text": [
            "time: 15.4 ms\n"
          ],
          "name": "stdout"
        }
      ]
    },
    {
      "cell_type": "code",
      "metadata": {
        "id": "uo6ZWaDSXiw6",
        "outputId": "daa6fcbe-55d2-47e3-e8a5-7694963b2d87",
        "colab": {
          "base_uri": "https://localhost:8080/",
          "height": 53
        }
      },
      "source": [
        "trt = LoadBatch(xtrain, ytrain, 100)\n",
        "print(trt)"
      ],
      "execution_count": null,
      "outputs": [
        {
          "output_type": "stream",
          "text": [
            "<generator object LoadBatch at 0x7f764c5d11a8>\n",
            "time: 1.84 ms\n"
          ],
          "name": "stdout"
        }
      ]
    },
    {
      "cell_type": "code",
      "metadata": {
        "id": "G08eQWG_NetG",
        "outputId": "15af7f99-2563-4a7a-e6bf-ee277c75c601",
        "colab": {
          "base_uri": "https://localhost:8080/",
          "height": 53
        }
      },
      "source": [
        "print(words_path)"
      ],
      "execution_count": null,
      "outputs": [
        {
          "output_type": "stream",
          "text": [
            "/data/processed/breta/words_gaplines\n",
            "time: 1.3 ms\n"
          ],
          "name": "stdout"
        }
      ]
    },
    {
      "cell_type": "code",
      "metadata": {
        "id": "GpUn8EwrNh-o"
      },
      "source": [
        "os.chdir(words_path)\n",
        "os.listdir(words_path)"
      ],
      "execution_count": null,
      "outputs": []
    },
    {
      "cell_type": "code",
      "metadata": {
        "id": "XGDt5ft7NNb5",
        "outputId": "e2d7a4fe-4c8a-453b-c8b3-3091c3fc524a",
        "colab": {
          "base_uri": "https://localhost:8080/",
          "height": 53
        }
      },
      "source": [
        "!find 'hungry_1514294635.6984315.png'"
      ],
      "execution_count": null,
      "outputs": [
        {
          "output_type": "stream",
          "text": [
            "find: ‘hungry_1514294635.6984315.png’: No such file or directory\n",
            "time: 193 ms\n"
          ],
          "name": "stdout"
        }
      ]
    },
    {
      "cell_type": "markdown",
      "metadata": {
        "id": "kaArPLyQz56P"
      },
      "source": [
        "### LOADER"
      ]
    },
    {
      "cell_type": "code",
      "metadata": {
        "id": "ynQQoa4Btnca",
        "outputId": "2b291852-89ed-4c5e-e39e-d23093968c5c",
        "colab": {
          "base_uri": "https://localhost:8080/",
          "height": 53
        }
      },
      "source": [
        "ko = []\n",
        "kk = []\n",
        "for i in sd:\n",
        "  for j in i:\n",
        "    #print(len(i), j)\n",
        "    kk.append(j)\n",
        "    ko.append(cv2.imread(f\"{words_path}/\" + j))\n",
        "    #cv2_imshow(ko[1])\n",
        "print(len(ko))\n",
        "#print(ko)\n",
        "#print(cp[2], \"L\")\n",
        "#print(\"S: \",sd)"
      ],
      "execution_count": null,
      "outputs": [
        {
          "output_type": "stream",
          "text": [
            "522\n",
            "time: 91 ms\n"
          ],
          "name": "stdout"
        }
      ]
    },
    {
      "cell_type": "code",
      "metadata": {
        "id": "T8QW9VXeIRAw"
      },
      "source": [
        "def ImgLoad(batch_size):\n",
        "  xx = []\n",
        "  yy = []\n",
        "  filelist=os.listdir(words_path)"
      ],
      "execution_count": null,
      "outputs": []
    },
    {
      "cell_type": "code",
      "metadata": {
        "id": "zpwIMQgZm68Z",
        "outputId": "20305808-37cc-494d-ef38-2afbe39a02be",
        "colab": {
          "base_uri": "https://localhost:8080/",
          "height": 35
        }
      },
      "source": [
        "def LoadBatch(xdata, ydata, batch_size):\n",
        "  xd = []\n",
        "  yd = []\n",
        "  img_l = []\n",
        "  count = 1\n",
        "  filelist=os.listdir(words_path)\n",
        "  \n",
        "  if (count % batch_size) < (batch_size):\n",
        "    lim = (count % batch_size)\n",
        "  else:\n",
        "    lim = (len(filelist) - 1)\n",
        "  \n",
        "  l = len(xtrain)\n",
        "\n",
        "  if lim == 0:\n",
        "    lim = 1\n",
        "  \n",
        "  while True:\n",
        "    for count in range(batch_size + 1):\n",
        "      for fichier in filelist[:(count % batch_size)]: \n",
        "          if (fichier.endswith(\".png\")):\n",
        "              img_l.append(image.load_img(fichier,  color_mode = 'grayscale', target_size=[28, 28]))\n",
        "              count += 1\n",
        "\n",
        "    #img = image.load_img([i for i in training[:Pointer % l]], color_mode = 'grayscale', target_size = [28, 28])\n",
        "    #enhancer = ImageEnhance.Contrast(img)\n",
        "    #img = ImageOps.grayscale(img)\n",
        "    #factor = 0.5 #increase contrast\n",
        "    #im_output = enhancer.enhance(factor)\n",
        "\n",
        "    for img in img_l:\n",
        "      img = image.img_to_array(img) / 255.0\n",
        "      xd.append(img)\n",
        "      yd.append([i for i in gt[count:lim]])\n",
        "      #Pointer = Pointer + 1\n",
        "\n",
        "    if len(xd) == batch_size:\n",
        "      yield np.array(xd), np.array(yd)\n",
        "      xd = []\n",
        "      yd = []"
      ],
      "execution_count": null,
      "outputs": [
        {
          "output_type": "stream",
          "text": [
            "time: 23.2 ms\n"
          ],
          "name": "stdout"
        }
      ]
    },
    {
      "cell_type": "markdown",
      "metadata": {
        "id": "X_S1LVQfz4Q-"
      },
      "source": [
        "## MODEL"
      ]
    },
    {
      "cell_type": "code",
      "metadata": {
        "id": "UR43aXT5oKOG",
        "outputId": "e42b6f61-87e0-4ef7-cf23-b3a1ed0b4c9f",
        "colab": {
          "base_uri": "https://localhost:8080/",
          "height": 653
        }
      },
      "source": [
        "cmodel=Sequential()\n",
        "\n",
        "cmodel.add(Conv2D(16,(3, 3),activation='relu',input_shape=(28,28,1)))\n",
        "cmodel.add(MaxPool2D((2, 2)))\n",
        "cmodel.add(Dropout(0.2))\n",
        "\n",
        "cmodel.add(Conv2D(32,(3,3),activation='relu'))\n",
        "cmodel.add(MaxPool2D((2, 2)))\n",
        "cmodel.add(Dropout(0.2))\n",
        "\n",
        "cmodel.add(Conv2D(64,(3, 3),activation='relu'))\n",
        "cmodel.add(MaxPool2D((2, 2)))\n",
        "cmodel.add(Dropout(0.2))\n",
        "\n",
        "#cmodel.add(Conv2D(128,(3, 3),activation='relu'))\n",
        "#cmodel.add(MaxPool2D((2, 2)))\n",
        "#cmodel.add(Dropout(0.2))\n",
        "\n",
        "#cmodel.add(Conv2D(512,(1, 1),activation='relu'))\n",
        "#cmodel.add(MaxPool2D((1, 1)))\n",
        "#cmodel.add(Dropout(0.2))\n",
        "\n",
        "cmodel.add(Flatten())\n",
        "\n",
        "\n",
        "#cmodel.add(Dense(256,activation='relu'))\n",
        "\n",
        "cmodel.add(Dense(64, activation='relu'))\n",
        "\n",
        "cmodel.add(Dense(32, activation='relu'))\n",
        "\n",
        "cmodel.add(Dense(16, activation='softmax'))\n",
        "\n",
        "cmodel.summary()"
      ],
      "execution_count": null,
      "outputs": [
        {
          "output_type": "stream",
          "text": [
            "Model: \"sequential_1\"\n",
            "_________________________________________________________________\n",
            "Layer (type)                 Output Shape              Param #   \n",
            "=================================================================\n",
            "conv2d_3 (Conv2D)            (None, 26, 26, 16)        160       \n",
            "_________________________________________________________________\n",
            "max_pooling2d_3 (MaxPooling2 (None, 13, 13, 16)        0         \n",
            "_________________________________________________________________\n",
            "dropout_3 (Dropout)          (None, 13, 13, 16)        0         \n",
            "_________________________________________________________________\n",
            "conv2d_4 (Conv2D)            (None, 11, 11, 32)        4640      \n",
            "_________________________________________________________________\n",
            "max_pooling2d_4 (MaxPooling2 (None, 5, 5, 32)          0         \n",
            "_________________________________________________________________\n",
            "dropout_4 (Dropout)          (None, 5, 5, 32)          0         \n",
            "_________________________________________________________________\n",
            "conv2d_5 (Conv2D)            (None, 3, 3, 64)          18496     \n",
            "_________________________________________________________________\n",
            "max_pooling2d_5 (MaxPooling2 (None, 1, 1, 64)          0         \n",
            "_________________________________________________________________\n",
            "dropout_5 (Dropout)          (None, 1, 1, 64)          0         \n",
            "_________________________________________________________________\n",
            "flatten_1 (Flatten)          (None, 64)                0         \n",
            "_________________________________________________________________\n",
            "dense_2 (Dense)              (None, 64)                4160      \n",
            "_________________________________________________________________\n",
            "dense_3 (Dense)              (None, 32)                2080      \n",
            "_________________________________________________________________\n",
            "dense_4 (Dense)              (None, 16)                528       \n",
            "=================================================================\n",
            "Total params: 30,064\n",
            "Trainable params: 30,064\n",
            "Non-trainable params: 0\n",
            "_________________________________________________________________\n",
            "time: 150 ms\n"
          ],
          "name": "stdout"
        }
      ]
    },
    {
      "cell_type": "code",
      "metadata": {
        "id": "VOzLPLdCoUDq",
        "outputId": "d3a32e61-e272-4f1c-ddd5-58c02e151554",
        "colab": {
          "base_uri": "https://localhost:8080/",
          "height": 35
        }
      },
      "source": [
        "cmodel.compile(loss='categorical_crossentropy',\n",
        "              optimizer='rmsprop',\n",
        "              metrics=['accuracy'])"
      ],
      "execution_count": null,
      "outputs": [
        {
          "output_type": "stream",
          "text": [
            "time: 15.5 ms\n"
          ],
          "name": "stdout"
        }
      ]
    },
    {
      "cell_type": "code",
      "metadata": {
        "id": "4oqH0prkoP2H",
        "outputId": "5f6151e5-4ab5-483b-e598-46c97b911baa",
        "colab": {
          "base_uri": "https://localhost:8080/",
          "height": 35
        }
      },
      "source": [
        "batch_size = 100\n",
        "train_data_generator = LoadBatch(xtrain, ytrain, batch_size)\n",
        "valid_data_generator = LoadBatch(xtest, ytest, batch_size)"
      ],
      "execution_count": null,
      "outputs": [
        {
          "output_type": "stream",
          "text": [
            "time: 1.7 ms\n"
          ],
          "name": "stdout"
        }
      ]
    },
    {
      "cell_type": "code",
      "metadata": {
        "id": "HLUYToZKHe7g"
      },
      "source": [
        "tdg = "
      ],
      "execution_count": null,
      "outputs": []
    },
    {
      "cell_type": "code",
      "metadata": {
        "id": "oz8OC5PPo6Z_",
        "outputId": "0e8d1a92-9685-4379-e927-d81ee0b6e08d",
        "colab": {
          "base_uri": "https://localhost:8080/",
          "height": 35
        }
      },
      "source": [
        "import keras"
      ],
      "execution_count": null,
      "outputs": [
        {
          "output_type": "stream",
          "text": [
            "time: 1.17 ms\n"
          ],
          "name": "stdout"
        }
      ]
    },
    {
      "cell_type": "code",
      "metadata": {
        "id": "uwGRoYrSZcj-",
        "outputId": "9b73e722-3c1a-4860-ac0b-8d0524ac7700",
        "colab": {
          "base_uri": "https://localhost:8080/",
          "height": 35
        }
      },
      "source": [
        "xtrain.shape"
      ],
      "execution_count": null,
      "outputs": [
        {
          "output_type": "execute_result",
          "data": {
            "text/plain": [
              "(1267, 2)"
            ]
          },
          "metadata": {
            "tags": []
          },
          "execution_count": 253
        },
        {
          "output_type": "stream",
          "text": [
            "time: 3.93 ms\n"
          ],
          "name": "stdout"
        }
      ]
    },
    {
      "cell_type": "code",
      "metadata": {
        "id": "aDagvZryZKmO",
        "outputId": "549e6395-590a-44bc-e3d7-6a51b7c64d53",
        "colab": {
          "base_uri": "https://localhost:8080/",
          "height": 35
        }
      },
      "source": [
        "#X_train = pd.DataFrame()\n",
        "#X_train = xtrain / 255.0\n",
        "#X_train.head()"
      ],
      "execution_count": null,
      "outputs": [
        {
          "output_type": "stream",
          "text": [
            "time: 708 µs\n"
          ],
          "name": "stdout"
        }
      ]
    },
    {
      "cell_type": "markdown",
      "metadata": {
        "id": "pA1N7vMQ0Cao"
      },
      "source": [
        "#### CALLBACK"
      ]
    },
    {
      "cell_type": "code",
      "metadata": {
        "id": "YOdM_7WJou63",
        "outputId": "6be926c1-2906-4ed8-c370-b4dbb12211bb",
        "colab": {
          "base_uri": "https://localhost:8080/",
          "height": 53
        }
      },
      "source": [
        "filepath_02=\"/content/drive/My Drive/OpenCV/Weights/z-1-ADweights-{val_accuracy:.4f}.h5\"\n",
        "checkpointing = keras.callbacks.ModelCheckpoint(filepath_02, monitor='val_accuracy', verbose=1, save_best_only = True, save_weights_only=True, mode='auto', period=1)\n",
        "callbacks_l = [checkpointing]"
      ],
      "execution_count": null,
      "outputs": [
        {
          "output_type": "stream",
          "text": [
            "WARNING:tensorflow:`period` argument is deprecated. Please use `save_freq` to specify the frequency in number of batches seen.\n",
            "time: 5.27 ms\n"
          ],
          "name": "stdout"
        }
      ]
    },
    {
      "cell_type": "code",
      "metadata": {
        "id": "ZCbyeGNjogAP",
        "outputId": "f84b60dc-6112-4413-c892-3155410485b0",
        "colab": {
          "base_uri": "https://localhost:8080/",
          "height": 758
        }
      },
      "source": [
        "#cmodel.fit(xtrain, ytrain, epochs=5, validation_data= (xtest, ytest), callbacks = callbacks_l)\n",
        "cmodel.fit(xtrain, ytrain, epochs = 5, verbose = 1 ,validation_data = (xtest, ytest), callbacks=callbacks_l)"
      ],
      "execution_count": null,
      "outputs": [
        {
          "output_type": "stream",
          "text": [
            "Epoch 1/5\n"
          ],
          "name": "stdout"
        },
        {
          "output_type": "error",
          "ename": "ValueError",
          "evalue": "ignored",
          "traceback": [
            "\u001b[0;31m---------------------------------------------------------------------------\u001b[0m",
            "\u001b[0;31mValueError\u001b[0m                                Traceback (most recent call last)",
            "\u001b[0;32m<ipython-input-257-c24d24c25a80>\u001b[0m in \u001b[0;36m<module>\u001b[0;34m()\u001b[0m\n\u001b[1;32m      1\u001b[0m \u001b[0;31m#cmodel.fit(xtrain, ytrain, epochs=5, validation_data= (xtest, ytest), callbacks = callbacks_l)\u001b[0m\u001b[0;34m\u001b[0m\u001b[0;34m\u001b[0m\u001b[0;34m\u001b[0m\u001b[0m\n\u001b[0;32m----> 2\u001b[0;31m \u001b[0mcmodel\u001b[0m\u001b[0;34m.\u001b[0m\u001b[0mfit\u001b[0m\u001b[0;34m(\u001b[0m\u001b[0mxtrain\u001b[0m\u001b[0;34m,\u001b[0m \u001b[0mytrain\u001b[0m\u001b[0;34m,\u001b[0m \u001b[0mepochs\u001b[0m \u001b[0;34m=\u001b[0m \u001b[0;36m5\u001b[0m\u001b[0;34m,\u001b[0m \u001b[0mverbose\u001b[0m \u001b[0;34m=\u001b[0m \u001b[0;36m1\u001b[0m \u001b[0;34m,\u001b[0m\u001b[0mvalidation_data\u001b[0m \u001b[0;34m=\u001b[0m \u001b[0;34m(\u001b[0m\u001b[0mxtest\u001b[0m\u001b[0;34m,\u001b[0m \u001b[0mytest\u001b[0m\u001b[0;34m)\u001b[0m\u001b[0;34m,\u001b[0m \u001b[0mcallbacks\u001b[0m\u001b[0;34m=\u001b[0m\u001b[0mcallbacks_l\u001b[0m\u001b[0;34m)\u001b[0m\u001b[0;34m\u001b[0m\u001b[0;34m\u001b[0m\u001b[0m\n\u001b[0m",
            "\u001b[0;32m/usr/local/lib/python3.6/dist-packages/tensorflow/python/keras/engine/training.py\u001b[0m in \u001b[0;36m_method_wrapper\u001b[0;34m(self, *args, **kwargs)\u001b[0m\n\u001b[1;32m    106\u001b[0m   \u001b[0;32mdef\u001b[0m \u001b[0m_method_wrapper\u001b[0m\u001b[0;34m(\u001b[0m\u001b[0mself\u001b[0m\u001b[0;34m,\u001b[0m \u001b[0;34m*\u001b[0m\u001b[0margs\u001b[0m\u001b[0;34m,\u001b[0m \u001b[0;34m**\u001b[0m\u001b[0mkwargs\u001b[0m\u001b[0;34m)\u001b[0m\u001b[0;34m:\u001b[0m\u001b[0;34m\u001b[0m\u001b[0;34m\u001b[0m\u001b[0m\n\u001b[1;32m    107\u001b[0m     \u001b[0;32mif\u001b[0m \u001b[0;32mnot\u001b[0m \u001b[0mself\u001b[0m\u001b[0;34m.\u001b[0m\u001b[0m_in_multi_worker_mode\u001b[0m\u001b[0;34m(\u001b[0m\u001b[0;34m)\u001b[0m\u001b[0;34m:\u001b[0m  \u001b[0;31m# pylint: disable=protected-access\u001b[0m\u001b[0;34m\u001b[0m\u001b[0;34m\u001b[0m\u001b[0m\n\u001b[0;32m--> 108\u001b[0;31m       \u001b[0;32mreturn\u001b[0m \u001b[0mmethod\u001b[0m\u001b[0;34m(\u001b[0m\u001b[0mself\u001b[0m\u001b[0;34m,\u001b[0m \u001b[0;34m*\u001b[0m\u001b[0margs\u001b[0m\u001b[0;34m,\u001b[0m \u001b[0;34m**\u001b[0m\u001b[0mkwargs\u001b[0m\u001b[0;34m)\u001b[0m\u001b[0;34m\u001b[0m\u001b[0;34m\u001b[0m\u001b[0m\n\u001b[0m\u001b[1;32m    109\u001b[0m \u001b[0;34m\u001b[0m\u001b[0m\n\u001b[1;32m    110\u001b[0m     \u001b[0;31m# Running inside `run_distribute_coordinator` already.\u001b[0m\u001b[0;34m\u001b[0m\u001b[0;34m\u001b[0m\u001b[0;34m\u001b[0m\u001b[0m\n",
            "\u001b[0;32m/usr/local/lib/python3.6/dist-packages/tensorflow/python/keras/engine/training.py\u001b[0m in \u001b[0;36mfit\u001b[0;34m(self, x, y, batch_size, epochs, verbose, callbacks, validation_split, validation_data, shuffle, class_weight, sample_weight, initial_epoch, steps_per_epoch, validation_steps, validation_batch_size, validation_freq, max_queue_size, workers, use_multiprocessing)\u001b[0m\n\u001b[1;32m   1096\u001b[0m                 batch_size=batch_size):\n\u001b[1;32m   1097\u001b[0m               \u001b[0mcallbacks\u001b[0m\u001b[0;34m.\u001b[0m\u001b[0mon_train_batch_begin\u001b[0m\u001b[0;34m(\u001b[0m\u001b[0mstep\u001b[0m\u001b[0;34m)\u001b[0m\u001b[0;34m\u001b[0m\u001b[0;34m\u001b[0m\u001b[0m\n\u001b[0;32m-> 1098\u001b[0;31m               \u001b[0mtmp_logs\u001b[0m \u001b[0;34m=\u001b[0m \u001b[0mtrain_function\u001b[0m\u001b[0;34m(\u001b[0m\u001b[0miterator\u001b[0m\u001b[0;34m)\u001b[0m\u001b[0;34m\u001b[0m\u001b[0;34m\u001b[0m\u001b[0m\n\u001b[0m\u001b[1;32m   1099\u001b[0m               \u001b[0;32mif\u001b[0m \u001b[0mdata_handler\u001b[0m\u001b[0;34m.\u001b[0m\u001b[0mshould_sync\u001b[0m\u001b[0;34m:\u001b[0m\u001b[0;34m\u001b[0m\u001b[0;34m\u001b[0m\u001b[0m\n\u001b[1;32m   1100\u001b[0m                 \u001b[0mcontext\u001b[0m\u001b[0;34m.\u001b[0m\u001b[0masync_wait\u001b[0m\u001b[0;34m(\u001b[0m\u001b[0;34m)\u001b[0m\u001b[0;34m\u001b[0m\u001b[0;34m\u001b[0m\u001b[0m\n",
            "\u001b[0;32m/usr/local/lib/python3.6/dist-packages/tensorflow/python/eager/def_function.py\u001b[0m in \u001b[0;36m__call__\u001b[0;34m(self, *args, **kwds)\u001b[0m\n\u001b[1;32m    778\u001b[0m       \u001b[0;32melse\u001b[0m\u001b[0;34m:\u001b[0m\u001b[0;34m\u001b[0m\u001b[0;34m\u001b[0m\u001b[0m\n\u001b[1;32m    779\u001b[0m         \u001b[0mcompiler\u001b[0m \u001b[0;34m=\u001b[0m \u001b[0;34m\"nonXla\"\u001b[0m\u001b[0;34m\u001b[0m\u001b[0;34m\u001b[0m\u001b[0m\n\u001b[0;32m--> 780\u001b[0;31m         \u001b[0mresult\u001b[0m \u001b[0;34m=\u001b[0m \u001b[0mself\u001b[0m\u001b[0;34m.\u001b[0m\u001b[0m_call\u001b[0m\u001b[0;34m(\u001b[0m\u001b[0;34m*\u001b[0m\u001b[0margs\u001b[0m\u001b[0;34m,\u001b[0m \u001b[0;34m**\u001b[0m\u001b[0mkwds\u001b[0m\u001b[0;34m)\u001b[0m\u001b[0;34m\u001b[0m\u001b[0;34m\u001b[0m\u001b[0m\n\u001b[0m\u001b[1;32m    781\u001b[0m \u001b[0;34m\u001b[0m\u001b[0m\n\u001b[1;32m    782\u001b[0m       \u001b[0mnew_tracing_count\u001b[0m \u001b[0;34m=\u001b[0m \u001b[0mself\u001b[0m\u001b[0;34m.\u001b[0m\u001b[0m_get_tracing_count\u001b[0m\u001b[0;34m(\u001b[0m\u001b[0;34m)\u001b[0m\u001b[0;34m\u001b[0m\u001b[0;34m\u001b[0m\u001b[0m\n",
            "\u001b[0;32m/usr/local/lib/python3.6/dist-packages/tensorflow/python/eager/def_function.py\u001b[0m in \u001b[0;36m_call\u001b[0;34m(self, *args, **kwds)\u001b[0m\n\u001b[1;32m    821\u001b[0m       \u001b[0;31m# This is the first call of __call__, so we have to initialize.\u001b[0m\u001b[0;34m\u001b[0m\u001b[0;34m\u001b[0m\u001b[0;34m\u001b[0m\u001b[0m\n\u001b[1;32m    822\u001b[0m       \u001b[0minitializers\u001b[0m \u001b[0;34m=\u001b[0m \u001b[0;34m[\u001b[0m\u001b[0;34m]\u001b[0m\u001b[0;34m\u001b[0m\u001b[0;34m\u001b[0m\u001b[0m\n\u001b[0;32m--> 823\u001b[0;31m       \u001b[0mself\u001b[0m\u001b[0;34m.\u001b[0m\u001b[0m_initialize\u001b[0m\u001b[0;34m(\u001b[0m\u001b[0margs\u001b[0m\u001b[0;34m,\u001b[0m \u001b[0mkwds\u001b[0m\u001b[0;34m,\u001b[0m \u001b[0madd_initializers_to\u001b[0m\u001b[0;34m=\u001b[0m\u001b[0minitializers\u001b[0m\u001b[0;34m)\u001b[0m\u001b[0;34m\u001b[0m\u001b[0;34m\u001b[0m\u001b[0m\n\u001b[0m\u001b[1;32m    824\u001b[0m     \u001b[0;32mfinally\u001b[0m\u001b[0;34m:\u001b[0m\u001b[0;34m\u001b[0m\u001b[0;34m\u001b[0m\u001b[0m\n\u001b[1;32m    825\u001b[0m       \u001b[0;31m# At this point we know that the initialization is complete (or less\u001b[0m\u001b[0;34m\u001b[0m\u001b[0;34m\u001b[0m\u001b[0;34m\u001b[0m\u001b[0m\n",
            "\u001b[0;32m/usr/local/lib/python3.6/dist-packages/tensorflow/python/eager/def_function.py\u001b[0m in \u001b[0;36m_initialize\u001b[0;34m(self, args, kwds, add_initializers_to)\u001b[0m\n\u001b[1;32m    695\u001b[0m     self._concrete_stateful_fn = (\n\u001b[1;32m    696\u001b[0m         self._stateful_fn._get_concrete_function_internal_garbage_collected(  # pylint: disable=protected-access\n\u001b[0;32m--> 697\u001b[0;31m             *args, **kwds))\n\u001b[0m\u001b[1;32m    698\u001b[0m \u001b[0;34m\u001b[0m\u001b[0m\n\u001b[1;32m    699\u001b[0m     \u001b[0;32mdef\u001b[0m \u001b[0minvalid_creator_scope\u001b[0m\u001b[0;34m(\u001b[0m\u001b[0;34m*\u001b[0m\u001b[0munused_args\u001b[0m\u001b[0;34m,\u001b[0m \u001b[0;34m**\u001b[0m\u001b[0munused_kwds\u001b[0m\u001b[0;34m)\u001b[0m\u001b[0;34m:\u001b[0m\u001b[0;34m\u001b[0m\u001b[0;34m\u001b[0m\u001b[0m\n",
            "\u001b[0;32m/usr/local/lib/python3.6/dist-packages/tensorflow/python/eager/function.py\u001b[0m in \u001b[0;36m_get_concrete_function_internal_garbage_collected\u001b[0;34m(self, *args, **kwargs)\u001b[0m\n\u001b[1;32m   2853\u001b[0m       \u001b[0margs\u001b[0m\u001b[0;34m,\u001b[0m \u001b[0mkwargs\u001b[0m \u001b[0;34m=\u001b[0m \u001b[0;32mNone\u001b[0m\u001b[0;34m,\u001b[0m \u001b[0;32mNone\u001b[0m\u001b[0;34m\u001b[0m\u001b[0;34m\u001b[0m\u001b[0m\n\u001b[1;32m   2854\u001b[0m     \u001b[0;32mwith\u001b[0m \u001b[0mself\u001b[0m\u001b[0;34m.\u001b[0m\u001b[0m_lock\u001b[0m\u001b[0;34m:\u001b[0m\u001b[0;34m\u001b[0m\u001b[0;34m\u001b[0m\u001b[0m\n\u001b[0;32m-> 2855\u001b[0;31m       \u001b[0mgraph_function\u001b[0m\u001b[0;34m,\u001b[0m \u001b[0m_\u001b[0m\u001b[0;34m,\u001b[0m \u001b[0m_\u001b[0m \u001b[0;34m=\u001b[0m \u001b[0mself\u001b[0m\u001b[0;34m.\u001b[0m\u001b[0m_maybe_define_function\u001b[0m\u001b[0;34m(\u001b[0m\u001b[0margs\u001b[0m\u001b[0;34m,\u001b[0m \u001b[0mkwargs\u001b[0m\u001b[0;34m)\u001b[0m\u001b[0;34m\u001b[0m\u001b[0;34m\u001b[0m\u001b[0m\n\u001b[0m\u001b[1;32m   2856\u001b[0m     \u001b[0;32mreturn\u001b[0m \u001b[0mgraph_function\u001b[0m\u001b[0;34m\u001b[0m\u001b[0;34m\u001b[0m\u001b[0m\n\u001b[1;32m   2857\u001b[0m \u001b[0;34m\u001b[0m\u001b[0m\n",
            "\u001b[0;32m/usr/local/lib/python3.6/dist-packages/tensorflow/python/eager/function.py\u001b[0m in \u001b[0;36m_maybe_define_function\u001b[0;34m(self, args, kwargs)\u001b[0m\n\u001b[1;32m   3211\u001b[0m \u001b[0;34m\u001b[0m\u001b[0m\n\u001b[1;32m   3212\u001b[0m       \u001b[0mself\u001b[0m\u001b[0;34m.\u001b[0m\u001b[0m_function_cache\u001b[0m\u001b[0;34m.\u001b[0m\u001b[0mmissed\u001b[0m\u001b[0;34m.\u001b[0m\u001b[0madd\u001b[0m\u001b[0;34m(\u001b[0m\u001b[0mcall_context_key\u001b[0m\u001b[0;34m)\u001b[0m\u001b[0;34m\u001b[0m\u001b[0;34m\u001b[0m\u001b[0m\n\u001b[0;32m-> 3213\u001b[0;31m       \u001b[0mgraph_function\u001b[0m \u001b[0;34m=\u001b[0m \u001b[0mself\u001b[0m\u001b[0;34m.\u001b[0m\u001b[0m_create_graph_function\u001b[0m\u001b[0;34m(\u001b[0m\u001b[0margs\u001b[0m\u001b[0;34m,\u001b[0m \u001b[0mkwargs\u001b[0m\u001b[0;34m)\u001b[0m\u001b[0;34m\u001b[0m\u001b[0;34m\u001b[0m\u001b[0m\n\u001b[0m\u001b[1;32m   3214\u001b[0m       \u001b[0mself\u001b[0m\u001b[0;34m.\u001b[0m\u001b[0m_function_cache\u001b[0m\u001b[0;34m.\u001b[0m\u001b[0mprimary\u001b[0m\u001b[0;34m[\u001b[0m\u001b[0mcache_key\u001b[0m\u001b[0;34m]\u001b[0m \u001b[0;34m=\u001b[0m \u001b[0mgraph_function\u001b[0m\u001b[0;34m\u001b[0m\u001b[0;34m\u001b[0m\u001b[0m\n\u001b[1;32m   3215\u001b[0m       \u001b[0;32mreturn\u001b[0m \u001b[0mgraph_function\u001b[0m\u001b[0;34m,\u001b[0m \u001b[0margs\u001b[0m\u001b[0;34m,\u001b[0m \u001b[0mkwargs\u001b[0m\u001b[0;34m\u001b[0m\u001b[0;34m\u001b[0m\u001b[0m\n",
            "\u001b[0;32m/usr/local/lib/python3.6/dist-packages/tensorflow/python/eager/function.py\u001b[0m in \u001b[0;36m_create_graph_function\u001b[0;34m(self, args, kwargs, override_flat_arg_shapes)\u001b[0m\n\u001b[1;32m   3073\u001b[0m             \u001b[0marg_names\u001b[0m\u001b[0;34m=\u001b[0m\u001b[0marg_names\u001b[0m\u001b[0;34m,\u001b[0m\u001b[0;34m\u001b[0m\u001b[0;34m\u001b[0m\u001b[0m\n\u001b[1;32m   3074\u001b[0m             \u001b[0moverride_flat_arg_shapes\u001b[0m\u001b[0;34m=\u001b[0m\u001b[0moverride_flat_arg_shapes\u001b[0m\u001b[0;34m,\u001b[0m\u001b[0;34m\u001b[0m\u001b[0;34m\u001b[0m\u001b[0m\n\u001b[0;32m-> 3075\u001b[0;31m             capture_by_value=self._capture_by_value),\n\u001b[0m\u001b[1;32m   3076\u001b[0m         \u001b[0mself\u001b[0m\u001b[0;34m.\u001b[0m\u001b[0m_function_attributes\u001b[0m\u001b[0;34m,\u001b[0m\u001b[0;34m\u001b[0m\u001b[0;34m\u001b[0m\u001b[0m\n\u001b[1;32m   3077\u001b[0m         \u001b[0mfunction_spec\u001b[0m\u001b[0;34m=\u001b[0m\u001b[0mself\u001b[0m\u001b[0;34m.\u001b[0m\u001b[0mfunction_spec\u001b[0m\u001b[0;34m,\u001b[0m\u001b[0;34m\u001b[0m\u001b[0;34m\u001b[0m\u001b[0m\n",
            "\u001b[0;32m/usr/local/lib/python3.6/dist-packages/tensorflow/python/framework/func_graph.py\u001b[0m in \u001b[0;36mfunc_graph_from_py_func\u001b[0;34m(name, python_func, args, kwargs, signature, func_graph, autograph, autograph_options, add_control_dependencies, arg_names, op_return_value, collections, capture_by_value, override_flat_arg_shapes)\u001b[0m\n\u001b[1;32m    984\u001b[0m         \u001b[0m_\u001b[0m\u001b[0;34m,\u001b[0m \u001b[0moriginal_func\u001b[0m \u001b[0;34m=\u001b[0m \u001b[0mtf_decorator\u001b[0m\u001b[0;34m.\u001b[0m\u001b[0munwrap\u001b[0m\u001b[0;34m(\u001b[0m\u001b[0mpython_func\u001b[0m\u001b[0;34m)\u001b[0m\u001b[0;34m\u001b[0m\u001b[0;34m\u001b[0m\u001b[0m\n\u001b[1;32m    985\u001b[0m \u001b[0;34m\u001b[0m\u001b[0m\n\u001b[0;32m--> 986\u001b[0;31m       \u001b[0mfunc_outputs\u001b[0m \u001b[0;34m=\u001b[0m \u001b[0mpython_func\u001b[0m\u001b[0;34m(\u001b[0m\u001b[0;34m*\u001b[0m\u001b[0mfunc_args\u001b[0m\u001b[0;34m,\u001b[0m \u001b[0;34m**\u001b[0m\u001b[0mfunc_kwargs\u001b[0m\u001b[0;34m)\u001b[0m\u001b[0;34m\u001b[0m\u001b[0;34m\u001b[0m\u001b[0m\n\u001b[0m\u001b[1;32m    987\u001b[0m \u001b[0;34m\u001b[0m\u001b[0m\n\u001b[1;32m    988\u001b[0m       \u001b[0;31m# invariant: `func_outputs` contains only Tensors, CompositeTensors,\u001b[0m\u001b[0;34m\u001b[0m\u001b[0;34m\u001b[0m\u001b[0;34m\u001b[0m\u001b[0m\n",
            "\u001b[0;32m/usr/local/lib/python3.6/dist-packages/tensorflow/python/eager/def_function.py\u001b[0m in \u001b[0;36mwrapped_fn\u001b[0;34m(*args, **kwds)\u001b[0m\n\u001b[1;32m    598\u001b[0m         \u001b[0;31m# __wrapped__ allows AutoGraph to swap in a converted function. We give\u001b[0m\u001b[0;34m\u001b[0m\u001b[0;34m\u001b[0m\u001b[0;34m\u001b[0m\u001b[0m\n\u001b[1;32m    599\u001b[0m         \u001b[0;31m# the function a weak reference to itself to avoid a reference cycle.\u001b[0m\u001b[0;34m\u001b[0m\u001b[0;34m\u001b[0m\u001b[0;34m\u001b[0m\u001b[0m\n\u001b[0;32m--> 600\u001b[0;31m         \u001b[0;32mreturn\u001b[0m \u001b[0mweak_wrapped_fn\u001b[0m\u001b[0;34m(\u001b[0m\u001b[0;34m)\u001b[0m\u001b[0;34m.\u001b[0m\u001b[0m__wrapped__\u001b[0m\u001b[0;34m(\u001b[0m\u001b[0;34m*\u001b[0m\u001b[0margs\u001b[0m\u001b[0;34m,\u001b[0m \u001b[0;34m**\u001b[0m\u001b[0mkwds\u001b[0m\u001b[0;34m)\u001b[0m\u001b[0;34m\u001b[0m\u001b[0;34m\u001b[0m\u001b[0m\n\u001b[0m\u001b[1;32m    601\u001b[0m     \u001b[0mweak_wrapped_fn\u001b[0m \u001b[0;34m=\u001b[0m \u001b[0mweakref\u001b[0m\u001b[0;34m.\u001b[0m\u001b[0mref\u001b[0m\u001b[0;34m(\u001b[0m\u001b[0mwrapped_fn\u001b[0m\u001b[0;34m)\u001b[0m\u001b[0;34m\u001b[0m\u001b[0;34m\u001b[0m\u001b[0m\n\u001b[1;32m    602\u001b[0m \u001b[0;34m\u001b[0m\u001b[0m\n",
            "\u001b[0;32m/usr/local/lib/python3.6/dist-packages/tensorflow/python/framework/func_graph.py\u001b[0m in \u001b[0;36mwrapper\u001b[0;34m(*args, **kwargs)\u001b[0m\n\u001b[1;32m    971\u001b[0m           \u001b[0;32mexcept\u001b[0m \u001b[0mException\u001b[0m \u001b[0;32mas\u001b[0m \u001b[0me\u001b[0m\u001b[0;34m:\u001b[0m  \u001b[0;31m# pylint:disable=broad-except\u001b[0m\u001b[0;34m\u001b[0m\u001b[0;34m\u001b[0m\u001b[0m\n\u001b[1;32m    972\u001b[0m             \u001b[0;32mif\u001b[0m \u001b[0mhasattr\u001b[0m\u001b[0;34m(\u001b[0m\u001b[0me\u001b[0m\u001b[0;34m,\u001b[0m \u001b[0;34m\"ag_error_metadata\"\u001b[0m\u001b[0;34m)\u001b[0m\u001b[0;34m:\u001b[0m\u001b[0;34m\u001b[0m\u001b[0;34m\u001b[0m\u001b[0m\n\u001b[0;32m--> 973\u001b[0;31m               \u001b[0;32mraise\u001b[0m \u001b[0me\u001b[0m\u001b[0;34m.\u001b[0m\u001b[0mag_error_metadata\u001b[0m\u001b[0;34m.\u001b[0m\u001b[0mto_exception\u001b[0m\u001b[0;34m(\u001b[0m\u001b[0me\u001b[0m\u001b[0;34m)\u001b[0m\u001b[0;34m\u001b[0m\u001b[0;34m\u001b[0m\u001b[0m\n\u001b[0m\u001b[1;32m    974\u001b[0m             \u001b[0;32melse\u001b[0m\u001b[0;34m:\u001b[0m\u001b[0;34m\u001b[0m\u001b[0;34m\u001b[0m\u001b[0m\n\u001b[1;32m    975\u001b[0m               \u001b[0;32mraise\u001b[0m\u001b[0;34m\u001b[0m\u001b[0;34m\u001b[0m\u001b[0m\n",
            "\u001b[0;31mValueError\u001b[0m: in user code:\n\n    /usr/local/lib/python3.6/dist-packages/tensorflow/python/keras/engine/training.py:806 train_function  *\n        return step_function(self, iterator)\n    /usr/local/lib/python3.6/dist-packages/tensorflow/python/keras/engine/training.py:796 step_function  **\n        outputs = model.distribute_strategy.run(run_step, args=(data,))\n    /usr/local/lib/python3.6/dist-packages/tensorflow/python/distribute/distribute_lib.py:1211 run\n        return self._extended.call_for_each_replica(fn, args=args, kwargs=kwargs)\n    /usr/local/lib/python3.6/dist-packages/tensorflow/python/distribute/distribute_lib.py:2585 call_for_each_replica\n        return self._call_for_each_replica(fn, args, kwargs)\n    /usr/local/lib/python3.6/dist-packages/tensorflow/python/distribute/distribute_lib.py:2945 _call_for_each_replica\n        return fn(*args, **kwargs)\n    /usr/local/lib/python3.6/dist-packages/tensorflow/python/keras/engine/training.py:789 run_step  **\n        outputs = model.train_step(data)\n    /usr/local/lib/python3.6/dist-packages/tensorflow/python/keras/engine/training.py:747 train_step\n        y_pred = self(x, training=True)\n    /usr/local/lib/python3.6/dist-packages/tensorflow/python/keras/engine/base_layer.py:976 __call__\n        self.name)\n    /usr/local/lib/python3.6/dist-packages/tensorflow/python/keras/engine/input_spec.py:196 assert_input_compatibility\n        str(x.shape.as_list()))\n\n    ValueError: Input 0 of layer sequential_1 is incompatible with the layer: : expected min_ndim=4, found ndim=2. Full shape received: [None, 2]\n"
          ]
        },
        {
          "output_type": "stream",
          "text": [
            "time: 405 ms\n"
          ],
          "name": "stdout"
        }
      ]
    },
    {
      "cell_type": "code",
      "metadata": {
        "id": "rjyw2_Fydc3s",
        "outputId": "929bac13-52b7-4b77-9e5e-1e74a7ed35e3",
        "colab": {
          "base_uri": "https://localhost:8080/",
          "height": 35
        }
      },
      "source": [
        "traint=[io.imread(f'{words_path}/' + i, as_gray=True) for i in training]\n",
        "\n",
        "#plt.imshow(np.array(traint[:1]))\n",
        "#print(np.array(traint[1]))"
      ],
      "execution_count": null,
      "outputs": [
        {
          "output_type": "stream",
          "text": [
            "time: 5.29 s\n"
          ],
          "name": "stdout"
        }
      ]
    },
    {
      "cell_type": "code",
      "metadata": {
        "id": "t0l9jVGVmuhj",
        "outputId": "c4c6634f-99ab-421b-8ddf-aba7057161fa",
        "colab": {
          "base_uri": "https://localhost:8080/",
          "height": 35
        }
      },
      "source": [
        "#a = np.expand_dims(traint[1], axis=0)\n",
        "#plt.imshow(a)"
      ],
      "execution_count": null,
      "outputs": [
        {
          "output_type": "stream",
          "text": [
            "time: 820 µs\n"
          ],
          "name": "stdout"
        }
      ]
    },
    {
      "cell_type": "code",
      "metadata": {
        "id": "UcYPagd5JYz7",
        "outputId": "19aa42e0-dcda-40b7-829d-4122682302d2",
        "colab": {
          "base_uri": "https://localhost:8080/",
          "height": 35
        }
      },
      "source": [
        "#te_mg = np.array([cv2.resize(image,(28,28)) for image in training])\n",
        "#te_mg = te_mg[:,:,:,np.newaxis]\n",
        "#te_mg.shape"
      ],
      "execution_count": null,
      "outputs": [
        {
          "output_type": "stream",
          "text": [
            "time: 1.08 ms\n"
          ],
          "name": "stdout"
        }
      ]
    },
    {
      "cell_type": "markdown",
      "metadata": {
        "id": "XUv1G7WqOjlP"
      },
      "source": [
        "## CNN MODEL 3"
      ]
    },
    {
      "cell_type": "code",
      "metadata": {
        "id": "3t4S-9qNMfx3",
        "outputId": "c1929db7-5c18-4beb-fe0a-2293f76d1487",
        "colab": {
          "base_uri": "https://localhost:8080/",
          "height": 635
        }
      },
      "source": [
        "cmodel=Sequential()\n",
        "\n",
        "cmodel.add(Conv2D(32,(3, 3),activation='relu',input_shape=(28,28,1)))\n",
        "cmodel.add(MaxPool2D((2, 2)))\n",
        "cmodel.add(Dropout(0.2))\n",
        "\n",
        "cmodel.add(Conv2D(64,(3,3),activation='relu'))\n",
        "cmodel.add(MaxPool2D((2, 2)))\n",
        "cmodel.add(Dropout(0.2))\n",
        "\n",
        "cmodel.add(Conv2D(128,(3, 3),activation='relu'))\n",
        "cmodel.add(MaxPool2D((2, 2)))\n",
        "cmodel.add(Dropout(0.2))\n",
        "\n",
        "#cmodel.add(Conv2D(128,(3, 3),activation='relu'))\n",
        "#cmodel.add(MaxPool2D((2, 2)))\n",
        "#cmodel.add(Dropout(0.2))\n",
        "\n",
        "#cmodel.add(Conv2D(512,(1, 1),activation='relu'))\n",
        "#cmodel.add(MaxPool2D((1, 1)))\n",
        "#cmodel.add(Dropout(0.2))\n",
        "\n",
        "cmodel.add(Flatten())\n",
        "\n",
        "\n",
        "#cmodel.add(Dense(256,activation='relu'))\n",
        "\n",
        "cmodel.add(Dense(128,activation='relu'))\n",
        "\n",
        "cmodel.add(Dense(64,activation='relu'))\n",
        "\n",
        "cmodel.add(Dense(62,activation='softmax'))\n",
        "\n",
        "cmodel.summary()"
      ],
      "execution_count": null,
      "outputs": [
        {
          "output_type": "stream",
          "text": [
            "Model: \"sequential_12\"\n",
            "_________________________________________________________________\n",
            "Layer (type)                 Output Shape              Param #   \n",
            "=================================================================\n",
            "conv2d_41 (Conv2D)           (None, 26, 26, 32)        320       \n",
            "_________________________________________________________________\n",
            "max_pooling2d_39 (MaxPooling (None, 13, 13, 32)        0         \n",
            "_________________________________________________________________\n",
            "dropout_39 (Dropout)         (None, 13, 13, 32)        0         \n",
            "_________________________________________________________________\n",
            "conv2d_42 (Conv2D)           (None, 11, 11, 64)        18496     \n",
            "_________________________________________________________________\n",
            "max_pooling2d_40 (MaxPooling (None, 5, 5, 64)          0         \n",
            "_________________________________________________________________\n",
            "dropout_40 (Dropout)         (None, 5, 5, 64)          0         \n",
            "_________________________________________________________________\n",
            "conv2d_43 (Conv2D)           (None, 3, 3, 128)         73856     \n",
            "_________________________________________________________________\n",
            "max_pooling2d_41 (MaxPooling (None, 1, 1, 128)         0         \n",
            "_________________________________________________________________\n",
            "dropout_41 (Dropout)         (None, 1, 1, 128)         0         \n",
            "_________________________________________________________________\n",
            "flatten_10 (Flatten)         (None, 128)               0         \n",
            "_________________________________________________________________\n",
            "dense_29 (Dense)             (None, 128)               16512     \n",
            "_________________________________________________________________\n",
            "dense_30 (Dense)             (None, 64)                8256      \n",
            "_________________________________________________________________\n",
            "dense_31 (Dense)             (None, 62)                4030      \n",
            "=================================================================\n",
            "Total params: 121,470\n",
            "Trainable params: 121,470\n",
            "Non-trainable params: 0\n",
            "_________________________________________________________________\n"
          ],
          "name": "stdout"
        }
      ]
    },
    {
      "cell_type": "code",
      "metadata": {
        "id": "rQEJaOm3Owwu"
      },
      "source": [
        "cmodel.compile(loss='categorical_crossentropy',\n",
        "              optimizer='rmsprop',\n",
        "              metrics=['accuracy'])"
      ],
      "execution_count": null,
      "outputs": []
    },
    {
      "cell_type": "code",
      "metadata": {
        "id": "qRPub64NPAg2",
        "outputId": "2933c473-0af9-414c-8337-f98eaa279ca2",
        "colab": {
          "base_uri": "https://localhost:8080/",
          "height": 1000
        }
      },
      "source": [
        "cmodel.fit(Trainx,Trainy,epochs=25,validation_data=(valx,valy))"
      ],
      "execution_count": null,
      "outputs": [
        {
          "output_type": "stream",
          "text": [
            "Epoch 1/25\n",
            "WARNING:tensorflow:Model was constructed with shape (None, 100, 100, 1) for input Tensor(\"conv2d_51_input:0\", shape=(None, 100, 100, 1), dtype=float32), but it was called on an input with incompatible shape (None, 28, 28, 1).\n"
          ],
          "name": "stdout"
        },
        {
          "output_type": "error",
          "ename": "ValueError",
          "evalue": "ignored",
          "traceback": [
            "\u001b[0;31m---------------------------------------------------------------------------\u001b[0m",
            "\u001b[0;31mValueError\u001b[0m                                Traceback (most recent call last)",
            "\u001b[0;32m<ipython-input-337-5c7176763ead>\u001b[0m in \u001b[0;36m<module>\u001b[0;34m()\u001b[0m\n\u001b[0;32m----> 1\u001b[0;31m \u001b[0mcmodel\u001b[0m\u001b[0;34m.\u001b[0m\u001b[0mfit\u001b[0m\u001b[0;34m(\u001b[0m\u001b[0mTrainx\u001b[0m\u001b[0;34m,\u001b[0m\u001b[0mTrainy\u001b[0m\u001b[0;34m,\u001b[0m\u001b[0mepochs\u001b[0m\u001b[0;34m=\u001b[0m\u001b[0;36m25\u001b[0m\u001b[0;34m,\u001b[0m\u001b[0mvalidation_data\u001b[0m\u001b[0;34m=\u001b[0m\u001b[0;34m(\u001b[0m\u001b[0mvalx\u001b[0m\u001b[0;34m,\u001b[0m\u001b[0mvaly\u001b[0m\u001b[0;34m)\u001b[0m\u001b[0;34m)\u001b[0m\u001b[0;34m\u001b[0m\u001b[0;34m\u001b[0m\u001b[0m\n\u001b[0m",
            "\u001b[0;32m/usr/local/lib/python3.6/dist-packages/tensorflow/python/keras/engine/training.py\u001b[0m in \u001b[0;36m_method_wrapper\u001b[0;34m(self, *args, **kwargs)\u001b[0m\n\u001b[1;32m    106\u001b[0m   \u001b[0;32mdef\u001b[0m \u001b[0m_method_wrapper\u001b[0m\u001b[0;34m(\u001b[0m\u001b[0mself\u001b[0m\u001b[0;34m,\u001b[0m \u001b[0;34m*\u001b[0m\u001b[0margs\u001b[0m\u001b[0;34m,\u001b[0m \u001b[0;34m**\u001b[0m\u001b[0mkwargs\u001b[0m\u001b[0;34m)\u001b[0m\u001b[0;34m:\u001b[0m\u001b[0;34m\u001b[0m\u001b[0;34m\u001b[0m\u001b[0m\n\u001b[1;32m    107\u001b[0m     \u001b[0;32mif\u001b[0m \u001b[0;32mnot\u001b[0m \u001b[0mself\u001b[0m\u001b[0;34m.\u001b[0m\u001b[0m_in_multi_worker_mode\u001b[0m\u001b[0;34m(\u001b[0m\u001b[0;34m)\u001b[0m\u001b[0;34m:\u001b[0m  \u001b[0;31m# pylint: disable=protected-access\u001b[0m\u001b[0;34m\u001b[0m\u001b[0;34m\u001b[0m\u001b[0m\n\u001b[0;32m--> 108\u001b[0;31m       \u001b[0;32mreturn\u001b[0m \u001b[0mmethod\u001b[0m\u001b[0;34m(\u001b[0m\u001b[0mself\u001b[0m\u001b[0;34m,\u001b[0m \u001b[0;34m*\u001b[0m\u001b[0margs\u001b[0m\u001b[0;34m,\u001b[0m \u001b[0;34m**\u001b[0m\u001b[0mkwargs\u001b[0m\u001b[0;34m)\u001b[0m\u001b[0;34m\u001b[0m\u001b[0;34m\u001b[0m\u001b[0m\n\u001b[0m\u001b[1;32m    109\u001b[0m \u001b[0;34m\u001b[0m\u001b[0m\n\u001b[1;32m    110\u001b[0m     \u001b[0;31m# Running inside `run_distribute_coordinator` already.\u001b[0m\u001b[0;34m\u001b[0m\u001b[0;34m\u001b[0m\u001b[0;34m\u001b[0m\u001b[0m\n",
            "\u001b[0;32m/usr/local/lib/python3.6/dist-packages/tensorflow/python/keras/engine/training.py\u001b[0m in \u001b[0;36mfit\u001b[0;34m(self, x, y, batch_size, epochs, verbose, callbacks, validation_split, validation_data, shuffle, class_weight, sample_weight, initial_epoch, steps_per_epoch, validation_steps, validation_batch_size, validation_freq, max_queue_size, workers, use_multiprocessing)\u001b[0m\n\u001b[1;32m   1096\u001b[0m                 batch_size=batch_size):\n\u001b[1;32m   1097\u001b[0m               \u001b[0mcallbacks\u001b[0m\u001b[0;34m.\u001b[0m\u001b[0mon_train_batch_begin\u001b[0m\u001b[0;34m(\u001b[0m\u001b[0mstep\u001b[0m\u001b[0;34m)\u001b[0m\u001b[0;34m\u001b[0m\u001b[0;34m\u001b[0m\u001b[0m\n\u001b[0;32m-> 1098\u001b[0;31m               \u001b[0mtmp_logs\u001b[0m \u001b[0;34m=\u001b[0m \u001b[0mtrain_function\u001b[0m\u001b[0;34m(\u001b[0m\u001b[0miterator\u001b[0m\u001b[0;34m)\u001b[0m\u001b[0;34m\u001b[0m\u001b[0;34m\u001b[0m\u001b[0m\n\u001b[0m\u001b[1;32m   1099\u001b[0m               \u001b[0;32mif\u001b[0m \u001b[0mdata_handler\u001b[0m\u001b[0;34m.\u001b[0m\u001b[0mshould_sync\u001b[0m\u001b[0;34m:\u001b[0m\u001b[0;34m\u001b[0m\u001b[0;34m\u001b[0m\u001b[0m\n\u001b[1;32m   1100\u001b[0m                 \u001b[0mcontext\u001b[0m\u001b[0;34m.\u001b[0m\u001b[0masync_wait\u001b[0m\u001b[0;34m(\u001b[0m\u001b[0;34m)\u001b[0m\u001b[0;34m\u001b[0m\u001b[0;34m\u001b[0m\u001b[0m\n",
            "\u001b[0;32m/usr/local/lib/python3.6/dist-packages/tensorflow/python/eager/def_function.py\u001b[0m in \u001b[0;36m__call__\u001b[0;34m(self, *args, **kwds)\u001b[0m\n\u001b[1;32m    778\u001b[0m       \u001b[0;32melse\u001b[0m\u001b[0;34m:\u001b[0m\u001b[0;34m\u001b[0m\u001b[0;34m\u001b[0m\u001b[0m\n\u001b[1;32m    779\u001b[0m         \u001b[0mcompiler\u001b[0m \u001b[0;34m=\u001b[0m \u001b[0;34m\"nonXla\"\u001b[0m\u001b[0;34m\u001b[0m\u001b[0;34m\u001b[0m\u001b[0m\n\u001b[0;32m--> 780\u001b[0;31m         \u001b[0mresult\u001b[0m \u001b[0;34m=\u001b[0m \u001b[0mself\u001b[0m\u001b[0;34m.\u001b[0m\u001b[0m_call\u001b[0m\u001b[0;34m(\u001b[0m\u001b[0;34m*\u001b[0m\u001b[0margs\u001b[0m\u001b[0;34m,\u001b[0m \u001b[0;34m**\u001b[0m\u001b[0mkwds\u001b[0m\u001b[0;34m)\u001b[0m\u001b[0;34m\u001b[0m\u001b[0;34m\u001b[0m\u001b[0m\n\u001b[0m\u001b[1;32m    781\u001b[0m \u001b[0;34m\u001b[0m\u001b[0m\n\u001b[1;32m    782\u001b[0m       \u001b[0mnew_tracing_count\u001b[0m \u001b[0;34m=\u001b[0m \u001b[0mself\u001b[0m\u001b[0;34m.\u001b[0m\u001b[0m_get_tracing_count\u001b[0m\u001b[0;34m(\u001b[0m\u001b[0;34m)\u001b[0m\u001b[0;34m\u001b[0m\u001b[0;34m\u001b[0m\u001b[0m\n",
            "\u001b[0;32m/usr/local/lib/python3.6/dist-packages/tensorflow/python/eager/def_function.py\u001b[0m in \u001b[0;36m_call\u001b[0;34m(self, *args, **kwds)\u001b[0m\n\u001b[1;32m    812\u001b[0m       \u001b[0;31m# In this case we have not created variables on the first call. So we can\u001b[0m\u001b[0;34m\u001b[0m\u001b[0;34m\u001b[0m\u001b[0;34m\u001b[0m\u001b[0m\n\u001b[1;32m    813\u001b[0m       \u001b[0;31m# run the first trace but we should fail if variables are created.\u001b[0m\u001b[0;34m\u001b[0m\u001b[0;34m\u001b[0m\u001b[0;34m\u001b[0m\u001b[0m\n\u001b[0;32m--> 814\u001b[0;31m       \u001b[0mresults\u001b[0m \u001b[0;34m=\u001b[0m \u001b[0mself\u001b[0m\u001b[0;34m.\u001b[0m\u001b[0m_stateful_fn\u001b[0m\u001b[0;34m(\u001b[0m\u001b[0;34m*\u001b[0m\u001b[0margs\u001b[0m\u001b[0;34m,\u001b[0m \u001b[0;34m**\u001b[0m\u001b[0mkwds\u001b[0m\u001b[0;34m)\u001b[0m\u001b[0;34m\u001b[0m\u001b[0;34m\u001b[0m\u001b[0m\n\u001b[0m\u001b[1;32m    815\u001b[0m       \u001b[0;32mif\u001b[0m \u001b[0mself\u001b[0m\u001b[0;34m.\u001b[0m\u001b[0m_created_variables\u001b[0m\u001b[0;34m:\u001b[0m\u001b[0;34m\u001b[0m\u001b[0;34m\u001b[0m\u001b[0m\n\u001b[1;32m    816\u001b[0m         raise ValueError(\"Creating variables on a non-first call to a function\"\n",
            "\u001b[0;32m/usr/local/lib/python3.6/dist-packages/tensorflow/python/eager/function.py\u001b[0m in \u001b[0;36m__call__\u001b[0;34m(self, *args, **kwargs)\u001b[0m\n\u001b[1;32m   2826\u001b[0m     \u001b[0;34m\"\"\"Calls a graph function specialized to the inputs.\"\"\"\u001b[0m\u001b[0;34m\u001b[0m\u001b[0;34m\u001b[0m\u001b[0m\n\u001b[1;32m   2827\u001b[0m     \u001b[0;32mwith\u001b[0m \u001b[0mself\u001b[0m\u001b[0;34m.\u001b[0m\u001b[0m_lock\u001b[0m\u001b[0;34m:\u001b[0m\u001b[0;34m\u001b[0m\u001b[0;34m\u001b[0m\u001b[0m\n\u001b[0;32m-> 2828\u001b[0;31m       \u001b[0mgraph_function\u001b[0m\u001b[0;34m,\u001b[0m \u001b[0margs\u001b[0m\u001b[0;34m,\u001b[0m \u001b[0mkwargs\u001b[0m \u001b[0;34m=\u001b[0m \u001b[0mself\u001b[0m\u001b[0;34m.\u001b[0m\u001b[0m_maybe_define_function\u001b[0m\u001b[0;34m(\u001b[0m\u001b[0margs\u001b[0m\u001b[0;34m,\u001b[0m \u001b[0mkwargs\u001b[0m\u001b[0;34m)\u001b[0m\u001b[0;34m\u001b[0m\u001b[0;34m\u001b[0m\u001b[0m\n\u001b[0m\u001b[1;32m   2829\u001b[0m     \u001b[0;32mreturn\u001b[0m \u001b[0mgraph_function\u001b[0m\u001b[0;34m.\u001b[0m\u001b[0m_filtered_call\u001b[0m\u001b[0;34m(\u001b[0m\u001b[0margs\u001b[0m\u001b[0;34m,\u001b[0m \u001b[0mkwargs\u001b[0m\u001b[0;34m)\u001b[0m  \u001b[0;31m# pylint: disable=protected-access\u001b[0m\u001b[0;34m\u001b[0m\u001b[0;34m\u001b[0m\u001b[0m\n\u001b[1;32m   2830\u001b[0m \u001b[0;34m\u001b[0m\u001b[0m\n",
            "\u001b[0;32m/usr/local/lib/python3.6/dist-packages/tensorflow/python/eager/function.py\u001b[0m in \u001b[0;36m_maybe_define_function\u001b[0;34m(self, args, kwargs)\u001b[0m\n\u001b[1;32m   3208\u001b[0m           \u001b[0;32mand\u001b[0m \u001b[0mself\u001b[0m\u001b[0;34m.\u001b[0m\u001b[0minput_signature\u001b[0m \u001b[0;32mis\u001b[0m \u001b[0;32mNone\u001b[0m\u001b[0;34m\u001b[0m\u001b[0;34m\u001b[0m\u001b[0m\n\u001b[1;32m   3209\u001b[0m           and call_context_key in self._function_cache.missed):\n\u001b[0;32m-> 3210\u001b[0;31m         \u001b[0;32mreturn\u001b[0m \u001b[0mself\u001b[0m\u001b[0;34m.\u001b[0m\u001b[0m_define_function_with_shape_relaxation\u001b[0m\u001b[0;34m(\u001b[0m\u001b[0margs\u001b[0m\u001b[0;34m,\u001b[0m \u001b[0mkwargs\u001b[0m\u001b[0;34m)\u001b[0m\u001b[0;34m\u001b[0m\u001b[0;34m\u001b[0m\u001b[0m\n\u001b[0m\u001b[1;32m   3211\u001b[0m \u001b[0;34m\u001b[0m\u001b[0m\n\u001b[1;32m   3212\u001b[0m       \u001b[0mself\u001b[0m\u001b[0;34m.\u001b[0m\u001b[0m_function_cache\u001b[0m\u001b[0;34m.\u001b[0m\u001b[0mmissed\u001b[0m\u001b[0;34m.\u001b[0m\u001b[0madd\u001b[0m\u001b[0;34m(\u001b[0m\u001b[0mcall_context_key\u001b[0m\u001b[0;34m)\u001b[0m\u001b[0;34m\u001b[0m\u001b[0;34m\u001b[0m\u001b[0m\n",
            "\u001b[0;32m/usr/local/lib/python3.6/dist-packages/tensorflow/python/eager/function.py\u001b[0m in \u001b[0;36m_define_function_with_shape_relaxation\u001b[0;34m(self, args, kwargs)\u001b[0m\n\u001b[1;32m   3140\u001b[0m \u001b[0;34m\u001b[0m\u001b[0m\n\u001b[1;32m   3141\u001b[0m     graph_function = self._create_graph_function(\n\u001b[0;32m-> 3142\u001b[0;31m         args, kwargs, override_flat_arg_shapes=relaxed_arg_shapes)\n\u001b[0m\u001b[1;32m   3143\u001b[0m     \u001b[0mself\u001b[0m\u001b[0;34m.\u001b[0m\u001b[0m_function_cache\u001b[0m\u001b[0;34m.\u001b[0m\u001b[0marg_relaxed\u001b[0m\u001b[0;34m[\u001b[0m\u001b[0mrank_only_cache_key\u001b[0m\u001b[0;34m]\u001b[0m \u001b[0;34m=\u001b[0m \u001b[0mgraph_function\u001b[0m\u001b[0;34m\u001b[0m\u001b[0;34m\u001b[0m\u001b[0m\n\u001b[1;32m   3144\u001b[0m \u001b[0;34m\u001b[0m\u001b[0m\n",
            "\u001b[0;32m/usr/local/lib/python3.6/dist-packages/tensorflow/python/eager/function.py\u001b[0m in \u001b[0;36m_create_graph_function\u001b[0;34m(self, args, kwargs, override_flat_arg_shapes)\u001b[0m\n\u001b[1;32m   3073\u001b[0m             \u001b[0marg_names\u001b[0m\u001b[0;34m=\u001b[0m\u001b[0marg_names\u001b[0m\u001b[0;34m,\u001b[0m\u001b[0;34m\u001b[0m\u001b[0;34m\u001b[0m\u001b[0m\n\u001b[1;32m   3074\u001b[0m             \u001b[0moverride_flat_arg_shapes\u001b[0m\u001b[0;34m=\u001b[0m\u001b[0moverride_flat_arg_shapes\u001b[0m\u001b[0;34m,\u001b[0m\u001b[0;34m\u001b[0m\u001b[0;34m\u001b[0m\u001b[0m\n\u001b[0;32m-> 3075\u001b[0;31m             capture_by_value=self._capture_by_value),\n\u001b[0m\u001b[1;32m   3076\u001b[0m         \u001b[0mself\u001b[0m\u001b[0;34m.\u001b[0m\u001b[0m_function_attributes\u001b[0m\u001b[0;34m,\u001b[0m\u001b[0;34m\u001b[0m\u001b[0;34m\u001b[0m\u001b[0m\n\u001b[1;32m   3077\u001b[0m         \u001b[0mfunction_spec\u001b[0m\u001b[0;34m=\u001b[0m\u001b[0mself\u001b[0m\u001b[0;34m.\u001b[0m\u001b[0mfunction_spec\u001b[0m\u001b[0;34m,\u001b[0m\u001b[0;34m\u001b[0m\u001b[0;34m\u001b[0m\u001b[0m\n",
            "\u001b[0;32m/usr/local/lib/python3.6/dist-packages/tensorflow/python/framework/func_graph.py\u001b[0m in \u001b[0;36mfunc_graph_from_py_func\u001b[0;34m(name, python_func, args, kwargs, signature, func_graph, autograph, autograph_options, add_control_dependencies, arg_names, op_return_value, collections, capture_by_value, override_flat_arg_shapes)\u001b[0m\n\u001b[1;32m    984\u001b[0m         \u001b[0m_\u001b[0m\u001b[0;34m,\u001b[0m \u001b[0moriginal_func\u001b[0m \u001b[0;34m=\u001b[0m \u001b[0mtf_decorator\u001b[0m\u001b[0;34m.\u001b[0m\u001b[0munwrap\u001b[0m\u001b[0;34m(\u001b[0m\u001b[0mpython_func\u001b[0m\u001b[0;34m)\u001b[0m\u001b[0;34m\u001b[0m\u001b[0;34m\u001b[0m\u001b[0m\n\u001b[1;32m    985\u001b[0m \u001b[0;34m\u001b[0m\u001b[0m\n\u001b[0;32m--> 986\u001b[0;31m       \u001b[0mfunc_outputs\u001b[0m \u001b[0;34m=\u001b[0m \u001b[0mpython_func\u001b[0m\u001b[0;34m(\u001b[0m\u001b[0;34m*\u001b[0m\u001b[0mfunc_args\u001b[0m\u001b[0;34m,\u001b[0m \u001b[0;34m**\u001b[0m\u001b[0mfunc_kwargs\u001b[0m\u001b[0;34m)\u001b[0m\u001b[0;34m\u001b[0m\u001b[0;34m\u001b[0m\u001b[0m\n\u001b[0m\u001b[1;32m    987\u001b[0m \u001b[0;34m\u001b[0m\u001b[0m\n\u001b[1;32m    988\u001b[0m       \u001b[0;31m# invariant: `func_outputs` contains only Tensors, CompositeTensors,\u001b[0m\u001b[0;34m\u001b[0m\u001b[0;34m\u001b[0m\u001b[0;34m\u001b[0m\u001b[0m\n",
            "\u001b[0;32m/usr/local/lib/python3.6/dist-packages/tensorflow/python/eager/def_function.py\u001b[0m in \u001b[0;36mwrapped_fn\u001b[0;34m(*args, **kwds)\u001b[0m\n\u001b[1;32m    598\u001b[0m         \u001b[0;31m# __wrapped__ allows AutoGraph to swap in a converted function. We give\u001b[0m\u001b[0;34m\u001b[0m\u001b[0;34m\u001b[0m\u001b[0;34m\u001b[0m\u001b[0m\n\u001b[1;32m    599\u001b[0m         \u001b[0;31m# the function a weak reference to itself to avoid a reference cycle.\u001b[0m\u001b[0;34m\u001b[0m\u001b[0;34m\u001b[0m\u001b[0;34m\u001b[0m\u001b[0m\n\u001b[0;32m--> 600\u001b[0;31m         \u001b[0;32mreturn\u001b[0m \u001b[0mweak_wrapped_fn\u001b[0m\u001b[0;34m(\u001b[0m\u001b[0;34m)\u001b[0m\u001b[0;34m.\u001b[0m\u001b[0m__wrapped__\u001b[0m\u001b[0;34m(\u001b[0m\u001b[0;34m*\u001b[0m\u001b[0margs\u001b[0m\u001b[0;34m,\u001b[0m \u001b[0;34m**\u001b[0m\u001b[0mkwds\u001b[0m\u001b[0;34m)\u001b[0m\u001b[0;34m\u001b[0m\u001b[0;34m\u001b[0m\u001b[0m\n\u001b[0m\u001b[1;32m    601\u001b[0m     \u001b[0mweak_wrapped_fn\u001b[0m \u001b[0;34m=\u001b[0m \u001b[0mweakref\u001b[0m\u001b[0;34m.\u001b[0m\u001b[0mref\u001b[0m\u001b[0;34m(\u001b[0m\u001b[0mwrapped_fn\u001b[0m\u001b[0;34m)\u001b[0m\u001b[0;34m\u001b[0m\u001b[0;34m\u001b[0m\u001b[0m\n\u001b[1;32m    602\u001b[0m \u001b[0;34m\u001b[0m\u001b[0m\n",
            "\u001b[0;32m/usr/local/lib/python3.6/dist-packages/tensorflow/python/framework/func_graph.py\u001b[0m in \u001b[0;36mwrapper\u001b[0;34m(*args, **kwargs)\u001b[0m\n\u001b[1;32m    971\u001b[0m           \u001b[0;32mexcept\u001b[0m \u001b[0mException\u001b[0m \u001b[0;32mas\u001b[0m \u001b[0me\u001b[0m\u001b[0;34m:\u001b[0m  \u001b[0;31m# pylint:disable=broad-except\u001b[0m\u001b[0;34m\u001b[0m\u001b[0;34m\u001b[0m\u001b[0m\n\u001b[1;32m    972\u001b[0m             \u001b[0;32mif\u001b[0m \u001b[0mhasattr\u001b[0m\u001b[0;34m(\u001b[0m\u001b[0me\u001b[0m\u001b[0;34m,\u001b[0m \u001b[0;34m\"ag_error_metadata\"\u001b[0m\u001b[0;34m)\u001b[0m\u001b[0;34m:\u001b[0m\u001b[0;34m\u001b[0m\u001b[0;34m\u001b[0m\u001b[0m\n\u001b[0;32m--> 973\u001b[0;31m               \u001b[0;32mraise\u001b[0m \u001b[0me\u001b[0m\u001b[0;34m.\u001b[0m\u001b[0mag_error_metadata\u001b[0m\u001b[0;34m.\u001b[0m\u001b[0mto_exception\u001b[0m\u001b[0;34m(\u001b[0m\u001b[0me\u001b[0m\u001b[0;34m)\u001b[0m\u001b[0;34m\u001b[0m\u001b[0;34m\u001b[0m\u001b[0m\n\u001b[0m\u001b[1;32m    974\u001b[0m             \u001b[0;32melse\u001b[0m\u001b[0;34m:\u001b[0m\u001b[0;34m\u001b[0m\u001b[0;34m\u001b[0m\u001b[0m\n\u001b[1;32m    975\u001b[0m               \u001b[0;32mraise\u001b[0m\u001b[0;34m\u001b[0m\u001b[0;34m\u001b[0m\u001b[0m\n",
            "\u001b[0;31mValueError\u001b[0m: in user code:\n\n    /usr/local/lib/python3.6/dist-packages/tensorflow/python/keras/engine/training.py:806 train_function  *\n        return step_function(self, iterator)\n    /usr/local/lib/python3.6/dist-packages/tensorflow/python/keras/engine/training.py:796 step_function  **\n        outputs = model.distribute_strategy.run(run_step, args=(data,))\n    /usr/local/lib/python3.6/dist-packages/tensorflow/python/distribute/distribute_lib.py:1211 run\n        return self._extended.call_for_each_replica(fn, args=args, kwargs=kwargs)\n    /usr/local/lib/python3.6/dist-packages/tensorflow/python/distribute/distribute_lib.py:2585 call_for_each_replica\n        return self._call_for_each_replica(fn, args, kwargs)\n    /usr/local/lib/python3.6/dist-packages/tensorflow/python/distribute/distribute_lib.py:2945 _call_for_each_replica\n        return fn(*args, **kwargs)\n    /usr/local/lib/python3.6/dist-packages/tensorflow/python/keras/engine/training.py:789 run_step  **\n        outputs = model.train_step(data)\n    /usr/local/lib/python3.6/dist-packages/tensorflow/python/keras/engine/training.py:747 train_step\n        y_pred = self(x, training=True)\n    /usr/local/lib/python3.6/dist-packages/tensorflow/python/keras/engine/base_layer.py:985 __call__\n        outputs = call_fn(inputs, *args, **kwargs)\n    /usr/local/lib/python3.6/dist-packages/tensorflow/python/keras/engine/sequential.py:372 call\n        return super(Sequential, self).call(inputs, training=training, mask=mask)\n    /usr/local/lib/python3.6/dist-packages/tensorflow/python/keras/engine/functional.py:386 call\n        inputs, training=training, mask=mask)\n    /usr/local/lib/python3.6/dist-packages/tensorflow/python/keras/engine/functional.py:508 _run_internal_graph\n        outputs = node.layer(*args, **kwargs)\n    /usr/local/lib/python3.6/dist-packages/tensorflow/python/keras/engine/base_layer.py:985 __call__\n        outputs = call_fn(inputs, *args, **kwargs)\n    /usr/local/lib/python3.6/dist-packages/tensorflow/python/keras/layers/convolutional.py:247 call\n        outputs = self._convolution_op(inputs, self.kernel)\n    /usr/local/lib/python3.6/dist-packages/tensorflow/python/util/dispatch.py:201 wrapper\n        return target(*args, **kwargs)\n    /usr/local/lib/python3.6/dist-packages/tensorflow/python/ops/nn_ops.py:1018 convolution_v2\n        name=name)\n    /usr/local/lib/python3.6/dist-packages/tensorflow/python/ops/nn_ops.py:1148 convolution_internal\n        name=name)\n    /usr/local/lib/python3.6/dist-packages/tensorflow/python/ops/nn_ops.py:2592 _conv2d_expanded_batch\n        name=name)\n    /usr/local/lib/python3.6/dist-packages/tensorflow/python/ops/gen_nn_ops.py:979 conv2d\n        data_format=data_format, dilations=dilations, name=name)\n    /usr/local/lib/python3.6/dist-packages/tensorflow/python/framework/op_def_library.py:744 _apply_op_helper\n        attrs=attr_protos, op_def=op_def)\n    /usr/local/lib/python3.6/dist-packages/tensorflow/python/framework/func_graph.py:593 _create_op_internal\n        compute_device)\n    /usr/local/lib/python3.6/dist-packages/tensorflow/python/framework/ops.py:3485 _create_op_internal\n        op_def=op_def)\n    /usr/local/lib/python3.6/dist-packages/tensorflow/python/framework/ops.py:1975 __init__\n        control_input_ops, op_def)\n    /usr/local/lib/python3.6/dist-packages/tensorflow/python/framework/ops.py:1815 _create_c_op\n        raise ValueError(str(e))\n\n    ValueError: Negative dimension size caused by subtracting 3 from 1 for '{{node sequential_17/conv2d_54/Conv2D}} = Conv2D[T=DT_FLOAT, data_format=\"NHWC\", dilations=[1, 1, 1, 1], explicit_paddings=[], padding=\"VALID\", strides=[1, 1, 1, 1], use_cudnn_on_gpu=true](sequential_17/dropout_53/dropout/Mul_1, sequential_17/conv2d_54/Conv2D/ReadVariableOp)' with input shapes: [?,1,1,128], [3,3,128,128].\n"
          ]
        },
        {
          "output_type": "stream",
          "text": [
            "time: 261 ms\n"
          ],
          "name": "stdout"
        }
      ]
    },
    {
      "cell_type": "code",
      "metadata": {
        "id": "NrWJhERL3Q61"
      },
      "source": [
        "cmodel.fit(Trainx,Trainy,epochs=25,validation_data=(valx,valy),callbacks=callbacks_l)"
      ],
      "execution_count": null,
      "outputs": []
    },
    {
      "cell_type": "code",
      "metadata": {
        "id": "3GofB74aPFsQ"
      },
      "source": [
        "cmodel.fit(Trainx,Trainy,epochs=25,validation_data=(valx,valy))"
      ],
      "execution_count": null,
      "outputs": []
    },
    {
      "cell_type": "markdown",
      "metadata": {
        "id": "RoZFynwk04RV"
      },
      "source": [
        "### TESTING"
      ]
    },
    {
      "cell_type": "code",
      "metadata": {
        "id": "oyYsAZP-fKsC"
      },
      "source": [
        "lab1=[]\n",
        "test1=[]\n",
        "#import os\n",
        "for i in os.listdir(f'{test_path}'):\n",
        "    test1.append(io.imread(f'{test_path}'+i,as_gray=True))\n",
        "    lab1.append(i.split('.')[0])"
      ],
      "execution_count": null,
      "outputs": []
    },
    {
      "cell_type": "code",
      "metadata": {
        "id": "HhtofADShXCv",
        "outputId": "73fb9960-88e1-4b11-a844-f879caf653a0",
        "colab": {
          "base_uri": "https://localhost:8080/",
          "height": 35
        }
      },
      "source": [
        "test_img1=np.array([cv2.resize(image,(28,28)) for image in test])\n",
        "test_img1=test_img1[:,:,:,np.newaxis]\n",
        "test_img1.shape"
      ],
      "execution_count": null,
      "outputs": [
        {
          "output_type": "execute_result",
          "data": {
            "text/plain": [
              "(6220, 28, 28, 1)"
            ]
          },
          "metadata": {
            "tags": []
          },
          "execution_count": 73
        }
      ]
    },
    {
      "cell_type": "code",
      "metadata": {
        "id": "DHY80p6BhxNj"
      },
      "source": [
        "predictions1=cmodel.predict(test_img1)\n",
        "\n",
        "predictions1=np.argmax(predictions1,axis=1)"
      ],
      "execution_count": null,
      "outputs": []
    },
    {
      "cell_type": "code",
      "metadata": {
        "id": "ZhchCYCYh7fW"
      },
      "source": [
        "lit1=[]\n",
        "for x in predictions1:\n",
        "    lit1.append(mapp.get(x))\n",
        "lit1"
      ],
      "execution_count": null,
      "outputs": []
    },
    {
      "cell_type": "code",
      "metadata": {
        "id": "D4bvw8kRiCmB"
      },
      "source": [
        "cmodel.compile(loss='categorical_crossentropy',\n",
        "              optimizer='rmsprop',\n",
        "              metrics=['accuracy'])"
      ],
      "execution_count": null,
      "outputs": []
    },
    {
      "cell_type": "code",
      "metadata": {
        "id": "Cvt2wfkuiMg3"
      },
      "source": [
        "cmodel.fit(Trainx,Trainy,epochs=30,validation_data=(valx,valy))"
      ],
      "execution_count": null,
      "outputs": []
    },
    {
      "cell_type": "code",
      "metadata": {
        "id": "3QFMMj57iQXf"
      },
      "source": [
        "cmodel.fit(Trainx,Trainy,epochs=30,validation_data=(valx,valy))"
      ],
      "execution_count": null,
      "outputs": []
    },
    {
      "cell_type": "markdown",
      "metadata": {
        "id": "cXF7BTON0MDm"
      },
      "source": [
        "#### CALLBACK"
      ]
    },
    {
      "cell_type": "code",
      "metadata": {
        "id": "p4BFJ46OiVbC",
        "outputId": "f7bb142a-76b6-457c-c40a-f2e36f56541e",
        "colab": {
          "base_uri": "https://localhost:8080/",
          "height": 55
        }
      },
      "source": [
        "filepath_02=\"/content/z-1-weights-{val_accuracy:.4f}.h5\"\n",
        "checkpointing = keras.callbacks.ModelCheckpoint(filepath_02, monitor='val_accuracy', verbose=1, save_best_only = True, save_weights_only=True, mode='auto', period=1)\n",
        "callbacks_l = [checkpointing]"
      ],
      "execution_count": null,
      "outputs": [
        {
          "output_type": "stream",
          "text": [
            "WARNING:tensorflow:`period` argument is deprecated. Please use `save_freq` to specify the frequency in number of batches seen.\n"
          ],
          "name": "stdout"
        }
      ]
    },
    {
      "cell_type": "markdown",
      "metadata": {
        "id": "mu21jiqk0wp0"
      },
      "source": [
        "#### FITTING"
      ]
    },
    {
      "cell_type": "code",
      "metadata": {
        "id": "GL6XGhGXkYmm"
      },
      "source": [
        "cmodel.fit(Trainx, Trainy, epochs=30, validation_data=(valx, valy), callbacks=callbacks_l)"
      ],
      "execution_count": null,
      "outputs": []
    },
    {
      "cell_type": "code",
      "metadata": {
        "id": "YKg64S7WkgzU"
      },
      "source": [
        "cmodel.fit(Trainx, Trainy, epochs=30, validation_data=(valx, valy), callbacks=callbacks_l)"
      ],
      "execution_count": null,
      "outputs": []
    },
    {
      "cell_type": "code",
      "metadata": {
        "id": "bGPCVaiWlfhL"
      },
      "source": [
        "cmodel.fit(Trainx, Trainy, epochs=30, validation_data=(valx, valy), callbacks=callbacks_l)"
      ],
      "execution_count": null,
      "outputs": []
    },
    {
      "cell_type": "code",
      "metadata": {
        "id": "EES0sS6ymsri"
      },
      "source": [
        "cmodel.fit(Trainx, Trainy, epochs=30, validation_data=(valx, valy), callbacks=callbacks_l)"
      ],
      "execution_count": null,
      "outputs": []
    },
    {
      "cell_type": "code",
      "metadata": {
        "id": "XN6Ft4MjoVIc"
      },
      "source": [
        "cmodel.fit(Trainx, Trainy, epochs=5, validation_data=(valx, valy), callbacks=callbacks_l)"
      ],
      "execution_count": null,
      "outputs": []
    },
    {
      "cell_type": "code",
      "metadata": {
        "id": "Pv62FlAxp0Nh"
      },
      "source": [
        "cmodel.fit(Trainx, Trainy, epochs=30, validation_data=(valx, valy), callbacks=callbacks_l)"
      ],
      "execution_count": null,
      "outputs": []
    },
    {
      "cell_type": "code",
      "metadata": {
        "id": "0FxwD0RwqJE4"
      },
      "source": [
        "cmodel.fit(Trainx, Trainy, epochs=30, validation_data=(valx, valy), callbacks=callbacks_l)"
      ],
      "execution_count": null,
      "outputs": []
    },
    {
      "cell_type": "code",
      "metadata": {
        "id": "QN7YkCW9r069"
      },
      "source": [
        "cmodel.fit(Trainx, Trainy, epochs=30, validation_data=(valx, valy), callbacks=callbacks_l)"
      ],
      "execution_count": null,
      "outputs": []
    },
    {
      "cell_type": "code",
      "metadata": {
        "id": "w7iTj4u1ua3s"
      },
      "source": [
        "cmodel.fit(Trainx, Trainy, epochs=5, validation_data=(valx, valy), callbacks=callbacks_l)"
      ],
      "execution_count": null,
      "outputs": []
    },
    {
      "cell_type": "code",
      "metadata": {
        "id": "m8t9GHFyuz58"
      },
      "source": [
        "cmodel.fit(Trainx, Trainy, epochs=5, validation_data=(valx, valy), callbacks=callbacks_l)"
      ],
      "execution_count": null,
      "outputs": []
    },
    {
      "cell_type": "code",
      "metadata": {
        "id": "xsouHCntvWq1"
      },
      "source": [
        "cmodel.fit(Trainx, Trainy, epochs=30, validation_data=(valx, valy), callbacks=callbacks_l)"
      ],
      "execution_count": null,
      "outputs": []
    },
    {
      "cell_type": "code",
      "metadata": {
        "id": "yWL8s8E3vml7"
      },
      "source": [
        "cmodel.fit(Trainx, Trainy, epochs=30, validation_data=(valx, valy), callbacks=callbacks_l)"
      ],
      "execution_count": null,
      "outputs": []
    },
    {
      "cell_type": "code",
      "metadata": {
        "id": "XTpJM3FxxhL3"
      },
      "source": [
        "cmodel.fit(Trainx, Trainy, epochs=30, validation_data=(valx, valy), callbacks=callbacks_l)"
      ],
      "execution_count": null,
      "outputs": []
    },
    {
      "cell_type": "code",
      "metadata": {
        "id": "T2PQmuvZ0Hfk"
      },
      "source": [
        "cmodel.fit(Trainx, Trainy, epochs=30, validation_data=(valx, valy), callbacks=callbacks_l)"
      ],
      "execution_count": null,
      "outputs": []
    },
    {
      "cell_type": "code",
      "metadata": {
        "id": "PgVM1UGE0yGB"
      },
      "source": [
        "cmodel.fit(Trainx, Trainy, epochs=30, validation_data=(valx, valy), callbacks=callbacks_l)"
      ],
      "execution_count": null,
      "outputs": []
    },
    {
      "cell_type": "code",
      "metadata": {
        "id": "Az9MvwHZ134G"
      },
      "source": [
        "cmodel.fit(Trainx, Trainy, epochs=30, validation_data=(valx, valy), callbacks=callbacks_l)"
      ],
      "execution_count": null,
      "outputs": []
    },
    {
      "cell_type": "code",
      "metadata": {
        "id": "1oLU1wKn40hW"
      },
      "source": [
        "cmodel.fit(Trainx, Trainy, epochs=30, validation_data=(valx, valy), callbacks=callbacks_l)"
      ],
      "execution_count": null,
      "outputs": []
    },
    {
      "cell_type": "code",
      "metadata": {
        "id": "8oh7RIcj8pbc"
      },
      "source": [
        "cmodel.fit(Trainx, Trainy, epochs=30, validation_data=(valx, valy), callbacks=callbacks_l)"
      ],
      "execution_count": null,
      "outputs": []
    },
    {
      "cell_type": "code",
      "metadata": {
        "id": "FlUPy7YhIwWj"
      },
      "source": [
        "cmodel.fit(Trainx, Trainy, epochs=30, validation_data=(valx, valy), callbacks=callbacks_l)"
      ],
      "execution_count": null,
      "outputs": []
    },
    {
      "cell_type": "code",
      "metadata": {
        "id": "THAG-AUqLh51"
      },
      "source": [
        "cmodel.fit(Trainx, Trainy, epochs=30, validation_data=(valx, valy), callbacks=callbacks_l)"
      ],
      "execution_count": null,
      "outputs": []
    },
    {
      "cell_type": "code",
      "metadata": {
        "id": "scX1rmc7NVCO"
      },
      "source": [
        "cmodel.fit(Trainx, Trainy, epochs=30, validation_data=(valx, valy), callbacks=callbacks_l)"
      ],
      "execution_count": null,
      "outputs": []
    },
    {
      "cell_type": "code",
      "metadata": {
        "id": "Zum_0la3OUEy"
      },
      "source": [
        "cmodel.fit(Trainx, Trainy, epochs=30, validation_data=(valx, valy), callbacks=callbacks_l)"
      ],
      "execution_count": null,
      "outputs": []
    },
    {
      "cell_type": "code",
      "metadata": {
        "id": "OnuBeYWtPg-r"
      },
      "source": [
        "cmodel.fit(Trainx, Trainy, epochs=30, validation_data=(valx, valy), callbacks=callbacks_l)"
      ],
      "execution_count": null,
      "outputs": []
    },
    {
      "cell_type": "markdown",
      "metadata": {
        "id": "QfjY-Uaj0SNB"
      },
      "source": [
        "### TESTING"
      ]
    },
    {
      "cell_type": "code",
      "metadata": {
        "id": "AC_HDJQLSDI7"
      },
      "source": [
        "lab2=[]\n",
        "test2=[]\n",
        "#import os\n",
        "for i in os.listdir(f'{test_path}'):\n",
        "    test2.append(io.imread(f\"{test_path}\"+i,as_gray=True))\n",
        "    lab2.append(i.split('.')[0])"
      ],
      "execution_count": null,
      "outputs": []
    },
    {
      "cell_type": "code",
      "metadata": {
        "id": "HKywugsXUNis",
        "outputId": "651375d9-9b27-4db1-ceed-7a3325912e74",
        "colab": {
          "base_uri": "https://localhost:8080/",
          "height": 35
        }
      },
      "source": [
        "test_img2=np.array([cv2.resize(image,(28,28)) for image in test2])\n",
        "test_img2=test_img2[:,:,:,np.newaxis]\n",
        "test_img2.shape"
      ],
      "execution_count": null,
      "outputs": [
        {
          "output_type": "execute_result",
          "data": {
            "text/plain": [
              "(6220, 28, 28, 1)"
            ]
          },
          "metadata": {
            "tags": []
          },
          "execution_count": 137
        }
      ]
    },
    {
      "cell_type": "code",
      "metadata": {
        "id": "SwzWfvOzUUEw"
      },
      "source": [
        "predictions2=cmodel.predict(test_img2)\n",
        "\n",
        "predictions2=np.argmax(predictions2,axis=1)"
      ],
      "execution_count": null,
      "outputs": []
    },
    {
      "cell_type": "code",
      "metadata": {
        "id": "yjRBHzN2UmsR",
        "outputId": "05424f52-9fed-4928-aa4f-12e7ee709f38",
        "colab": {
          "base_uri": "https://localhost:8080/",
          "height": 35
        }
      },
      "source": [
        "print(predictions[:5])"
      ],
      "execution_count": null,
      "outputs": [
        {
          "output_type": "stream",
          "text": [
            "[54 22 38 18 29]\n"
          ],
          "name": "stdout"
        }
      ]
    },
    {
      "cell_type": "code",
      "metadata": {
        "id": "hyBvebiAUYmo",
        "outputId": "8ae6a6e3-93a5-4346-90c5-4bebc9658c3a",
        "colab": {
          "base_uri": "https://localhost:8080/",
          "height": 108
        }
      },
      "source": [
        "lit2=[]\n",
        "for x in predictions[:5]:\n",
        "    print(mapp.get(x), x)\n",
        "    #lit.append(mapp.get(x))\n",
        "#lit2"
      ],
      "execution_count": null,
      "outputs": [
        {
          "output_type": "stream",
          "text": [
            "s 54\n",
            "M 22\n",
            "c 38\n",
            "I 18\n",
            "T 29\n"
          ],
          "name": "stdout"
        }
      ]
    },
    {
      "cell_type": "code",
      "metadata": {
        "id": "YurDj9ZuVCxK"
      },
      "source": [
        "lab3=[]\n",
        "test3=[]\n",
        "#import os\n",
        "for i in range(10000, 10005):\n",
        "    test3.append(io.imread(f\"{test_path}\"+str(i)+\".Bmp\",as_gray=True))\n",
        "    lab3.append(str(i).split('.')[0])"
      ],
      "execution_count": null,
      "outputs": []
    },
    {
      "cell_type": "code",
      "metadata": {
        "id": "WgdAq023UojH",
        "outputId": "5fe31669-9599-48d6-8b1d-304435275c83",
        "colab": {
          "base_uri": "https://localhost:8080/",
          "height": 35
        }
      },
      "source": [
        "test_img3=np.array([cv2.resize(image,(28,28)) for image in test3])\n",
        "test_img3=test_img3[:,:,:,np.newaxis]\n",
        "test_img3.shape"
      ],
      "execution_count": null,
      "outputs": [
        {
          "output_type": "execute_result",
          "data": {
            "text/plain": [
              "(5, 28, 28, 1)"
            ]
          },
          "metadata": {
            "tags": []
          },
          "execution_count": 149
        }
      ]
    },
    {
      "cell_type": "code",
      "metadata": {
        "id": "QtyrZRD0U5Od"
      },
      "source": [
        "predictions3=cmodel.predict(test_img3)\n",
        "\n",
        "predictions3=np.argmax(predictions3,axis=1)"
      ],
      "execution_count": null,
      "outputs": []
    },
    {
      "cell_type": "code",
      "metadata": {
        "id": "-0WrhBEKWIqr",
        "outputId": "21eacd5d-a137-483f-e2a7-6224d59768f3",
        "colab": {
          "base_uri": "https://localhost:8080/",
          "height": 35
        }
      },
      "source": [
        "print(predictions3[:5])"
      ],
      "execution_count": null,
      "outputs": [
        {
          "output_type": "stream",
          "text": [
            "[29 14 44 29 13]\n"
          ],
          "name": "stdout"
        }
      ]
    },
    {
      "cell_type": "code",
      "metadata": {
        "id": "ALVXPGsmWKnl",
        "outputId": "420fdfff-883a-412d-8b54-1a1aa32f4621",
        "colab": {
          "base_uri": "https://localhost:8080/",
          "height": 35
        }
      },
      "source": [
        "lit3=[]\n",
        "for x in predictions3:\n",
        "    lit3.append(mapp.get(x))\n",
        "lit3"
      ],
      "execution_count": null,
      "outputs": [
        {
          "output_type": "execute_result",
          "data": {
            "text/plain": [
              "['T', 'E', 'i', 'T', 'D']"
            ]
          },
          "metadata": {
            "tags": []
          },
          "execution_count": 153
        }
      ]
    },
    {
      "cell_type": "code",
      "metadata": {
        "id": "a8L0P2dUWUly"
      },
      "source": [
        "model.fit(Trainx, Trainy, epochs=30, validation_data=(valx, valy), callbacks=callbacks_l)"
      ],
      "execution_count": null,
      "outputs": []
    },
    {
      "cell_type": "code",
      "metadata": {
        "id": "VrLoaOEOY2XV"
      },
      "source": [
        "model.fit(Trainx, Trainy, epochs=30, validation_data=(valx, valy), callbacks=callbacks_l)"
      ],
      "execution_count": null,
      "outputs": []
    },
    {
      "cell_type": "code",
      "metadata": {
        "id": "WZmAJ17IZ5hI"
      },
      "source": [
        "model.fit(Trainx, Trainy, epochs=30, validation_data=(valx, valy), callbacks=callbacks_l)"
      ],
      "execution_count": null,
      "outputs": []
    },
    {
      "cell_type": "code",
      "metadata": {
        "id": "UQWZXQivepqg"
      },
      "source": [
        "model.fit(Trainx, Trainy, epochs=30, validation_data=(valx, valy), callbacks=callbacks_l)"
      ],
      "execution_count": null,
      "outputs": []
    },
    {
      "cell_type": "markdown",
      "metadata": {
        "id": "lj05xtCM0Wh5"
      },
      "source": [
        "## CNN MODEL 4"
      ]
    },
    {
      "cell_type": "code",
      "metadata": {
        "id": "8MPxqVUygKqE",
        "outputId": "e6a98806-f7a1-41e0-b350-6d5d4a4154c7",
        "colab": {
          "base_uri": "https://localhost:8080/",
          "height": 707
        }
      },
      "source": [
        "# MODEL 4\n",
        "kmodel=Sequential()\n",
        "\n",
        "kmodel.add(Conv2D(32,(2,2),activation='relu',input_shape=(28,28,1)))\n",
        "kmodel.add(MaxPool2D((1,1)))\n",
        "kmodel.add(Dropout(0.2))\n",
        "\n",
        "kmodel.add(Conv2D(64,(2,2),activation='relu'))\n",
        "kmodel.add(MaxPool2D((1,1)))\n",
        "kmodel.add(Dropout(0.2))\n",
        "\n",
        "kmodel.add(Conv2D(128,(2,2),activation='relu'))\n",
        "kmodel.add(MaxPool2D((1,1)))\n",
        "kmodel.add(Dropout(0.2))\n",
        "\n",
        "kmodel.add(Conv2D(128,(2,2),activation='relu'))\n",
        "kmodel.add(MaxPool2D((1,1)))\n",
        "kmodel.add(Dropout(0.2))\n",
        "\n",
        "kmodel.add(Flatten())\n",
        "\n",
        "#model.add(Dense(512,activation='relu'))\n",
        "\n",
        "#model.add(Dense(256,activation='relu'))\n",
        "#kmodel.add(Dense(256,activation='relu'))\n",
        "\n",
        "kmodel.add(Dense(128,activation='relu'))\n",
        "\n",
        "kmodel.add(Dense(62,activation='softmax'))\n",
        "\n",
        "kmodel.summary()\n",
        "\n",
        "kmodel.compile(loss='categorical_crossentropy',\n",
        "              optimizer='rmsprop',\n",
        "              metrics=['accuracy'])"
      ],
      "execution_count": null,
      "outputs": [
        {
          "output_type": "stream",
          "text": [
            "Model: \"sequential_18\"\n",
            "_________________________________________________________________\n",
            "Layer (type)                 Output Shape              Param #   \n",
            "=================================================================\n",
            "conv2d_64 (Conv2D)           (None, 27, 27, 32)        160       \n",
            "_________________________________________________________________\n",
            "max_pooling2d_57 (MaxPooling (None, 27, 27, 32)        0         \n",
            "_________________________________________________________________\n",
            "dropout_57 (Dropout)         (None, 27, 27, 32)        0         \n",
            "_________________________________________________________________\n",
            "conv2d_65 (Conv2D)           (None, 26, 26, 64)        8256      \n",
            "_________________________________________________________________\n",
            "max_pooling2d_58 (MaxPooling (None, 26, 26, 64)        0         \n",
            "_________________________________________________________________\n",
            "dropout_58 (Dropout)         (None, 26, 26, 64)        0         \n",
            "_________________________________________________________________\n",
            "conv2d_66 (Conv2D)           (None, 25, 25, 128)       32896     \n",
            "_________________________________________________________________\n",
            "max_pooling2d_59 (MaxPooling (None, 25, 25, 128)       0         \n",
            "_________________________________________________________________\n",
            "dropout_59 (Dropout)         (None, 25, 25, 128)       0         \n",
            "_________________________________________________________________\n",
            "conv2d_67 (Conv2D)           (None, 24, 24, 128)       65664     \n",
            "_________________________________________________________________\n",
            "max_pooling2d_60 (MaxPooling (None, 24, 24, 128)       0         \n",
            "_________________________________________________________________\n",
            "dropout_60 (Dropout)         (None, 24, 24, 128)       0         \n",
            "_________________________________________________________________\n",
            "flatten_11 (Flatten)         (None, 73728)             0         \n",
            "_________________________________________________________________\n",
            "dense_32 (Dense)             (None, 128)               9437312   \n",
            "_________________________________________________________________\n",
            "dense_33 (Dense)             (None, 62)                7998      \n",
            "=================================================================\n",
            "Total params: 9,552,286\n",
            "Trainable params: 9,552,286\n",
            "Non-trainable params: 0\n",
            "_________________________________________________________________\n"
          ],
          "name": "stdout"
        }
      ]
    },
    {
      "cell_type": "markdown",
      "metadata": {
        "id": "1-w2X0hq0ZDN"
      },
      "source": [
        "#### CALLBACK"
      ]
    },
    {
      "cell_type": "code",
      "metadata": {
        "id": "WBb3O5MAkIvw",
        "outputId": "5c0c29be-76ab-4f85-cc2d-db9c14f774d4",
        "colab": {
          "base_uri": "https://localhost:8080/",
          "height": 55
        }
      },
      "source": [
        "filepath_02=\"/content/z-1-weightsM3-{val_accuracy:.4f}.h5\"\n",
        "checkpointing = keras.callbacks.ModelCheckpoint(filepath_02, monitor='val_accuracy', verbose=1, save_best_only = True, save_weights_only=True, mode='auto', period=1)\n",
        "callbacks_m = [checkpointing]"
      ],
      "execution_count": null,
      "outputs": [
        {
          "output_type": "stream",
          "text": [
            "WARNING:tensorflow:`period` argument is deprecated. Please use `save_freq` to specify the frequency in number of batches seen.\n"
          ],
          "name": "stdout"
        }
      ]
    },
    {
      "cell_type": "markdown",
      "metadata": {
        "id": "qwuFRSiP0bQ-"
      },
      "source": [
        "#### FITTING"
      ]
    },
    {
      "cell_type": "code",
      "metadata": {
        "id": "9I5ihbe-lg9P"
      },
      "source": [
        "kmodel.fit(Trainx, Trainy, epochs=30, validation_data=(valx, valy), callbacks=callbacks_m)"
      ],
      "execution_count": null,
      "outputs": []
    },
    {
      "cell_type": "code",
      "metadata": {
        "id": "dxJMtQgjtQM1"
      },
      "source": [
        "kmodel.fit(Trainx, Trainy, epochs=40, validation_data=(valx, valy), callbacks=callbacks_m)"
      ],
      "execution_count": null,
      "outputs": []
    },
    {
      "cell_type": "code",
      "metadata": {
        "id": "XTLKKE0YuJgD"
      },
      "source": [
        ""
      ],
      "execution_count": null,
      "outputs": []
    }
  ]
}